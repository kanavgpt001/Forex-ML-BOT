{
 "cells": [
  {
   "cell_type": "code",
   "execution_count": 1,
   "metadata": {},
   "outputs": [
    {
     "ename": "KeyboardInterrupt",
     "evalue": "",
     "output_type": "error",
     "traceback": [
      "\u001b[31m---------------------------------------------------------------------------\u001b[39m",
      "\u001b[31mKeyboardInterrupt\u001b[39m                         Traceback (most recent call last)",
      "\u001b[36mCell\u001b[39m\u001b[36m \u001b[39m\u001b[32mIn[1]\u001b[39m\u001b[32m, line 2\u001b[39m\n\u001b[32m      1\u001b[39m \u001b[38;5;28;01mimport\u001b[39;00m\u001b[38;5;250m \u001b[39m\u001b[34;01mplotly\u001b[39;00m\u001b[34;01m.\u001b[39;00m\u001b[34;01mgraph_objects\u001b[39;00m\u001b[38;5;250m \u001b[39m\u001b[38;5;28;01mas\u001b[39;00m\u001b[38;5;250m \u001b[39m\u001b[34;01mgo\u001b[39;00m\n\u001b[32m----> \u001b[39m\u001b[32m2\u001b[39m \u001b[38;5;28;01mimport\u001b[39;00m\u001b[38;5;250m \u001b[39m\u001b[34;01mpandas\u001b[39;00m\u001b[38;5;250m \u001b[39m\u001b[38;5;28;01mas\u001b[39;00m\u001b[38;5;250m \u001b[39m\u001b[34;01mpd\u001b[39;00m\n\u001b[32m      3\u001b[39m \u001b[38;5;28;01mimport\u001b[39;00m\u001b[38;5;250m \u001b[39m\u001b[34;01myfinance\u001b[39;00m\u001b[38;5;250m \u001b[39m\u001b[38;5;28;01mas\u001b[39;00m\u001b[38;5;250m \u001b[39m\u001b[34;01myf\u001b[39;00m\n\u001b[32m      4\u001b[39m \u001b[38;5;28;01mimport\u001b[39;00m\u001b[38;5;250m \u001b[39m\u001b[34;01mtime\u001b[39;00m\n",
      "\u001b[36mFile \u001b[39m\u001b[32m~\\AppData\\Local\\Packages\\PythonSoftwareFoundation.Python.3.12_qbz5n2kfra8p0\\LocalCache\\local-packages\\Python312\\site-packages\\pandas\\__init__.py:62\u001b[39m\n\u001b[32m     59\u001b[39m \u001b[38;5;66;03m# let init-time option registration happen\u001b[39;00m\n\u001b[32m     60\u001b[39m \u001b[38;5;28;01mimport\u001b[39;00m\u001b[38;5;250m \u001b[39m\u001b[34;01mpandas\u001b[39;00m\u001b[34;01m.\u001b[39;00m\u001b[34;01mcore\u001b[39;00m\u001b[34;01m.\u001b[39;00m\u001b[34;01mconfig_init\u001b[39;00m  \u001b[38;5;66;03m# pyright: ignore[reportUnusedImport] # noqa: F401\u001b[39;00m\n\u001b[32m---> \u001b[39m\u001b[32m62\u001b[39m \u001b[38;5;28;01mfrom\u001b[39;00m\u001b[38;5;250m \u001b[39m\u001b[34;01mpandas\u001b[39;00m\u001b[34;01m.\u001b[39;00m\u001b[34;01mcore\u001b[39;00m\u001b[34;01m.\u001b[39;00m\u001b[34;01mapi\u001b[39;00m\u001b[38;5;250m \u001b[39m\u001b[38;5;28;01mimport\u001b[39;00m (\n\u001b[32m     63\u001b[39m     \u001b[38;5;66;03m# dtype\u001b[39;00m\n\u001b[32m     64\u001b[39m     ArrowDtype,\n\u001b[32m     65\u001b[39m     Int8Dtype,\n\u001b[32m     66\u001b[39m     Int16Dtype,\n\u001b[32m     67\u001b[39m     Int32Dtype,\n\u001b[32m     68\u001b[39m     Int64Dtype,\n\u001b[32m     69\u001b[39m     UInt8Dtype,\n\u001b[32m     70\u001b[39m     UInt16Dtype,\n\u001b[32m     71\u001b[39m     UInt32Dtype,\n\u001b[32m     72\u001b[39m     UInt64Dtype,\n\u001b[32m     73\u001b[39m     Float32Dtype,\n\u001b[32m     74\u001b[39m     Float64Dtype,\n\u001b[32m     75\u001b[39m     CategoricalDtype,\n\u001b[32m     76\u001b[39m     PeriodDtype,\n\u001b[32m     77\u001b[39m     IntervalDtype,\n\u001b[32m     78\u001b[39m     DatetimeTZDtype,\n\u001b[32m     79\u001b[39m     StringDtype,\n\u001b[32m     80\u001b[39m     BooleanDtype,\n\u001b[32m     81\u001b[39m     \u001b[38;5;66;03m# missing\u001b[39;00m\n\u001b[32m     82\u001b[39m     NA,\n\u001b[32m     83\u001b[39m     isna,\n\u001b[32m     84\u001b[39m     isnull,\n\u001b[32m     85\u001b[39m     notna,\n\u001b[32m     86\u001b[39m     notnull,\n\u001b[32m     87\u001b[39m     \u001b[38;5;66;03m# indexes\u001b[39;00m\n\u001b[32m     88\u001b[39m     Index,\n\u001b[32m     89\u001b[39m     CategoricalIndex,\n\u001b[32m     90\u001b[39m     RangeIndex,\n\u001b[32m     91\u001b[39m     MultiIndex,\n\u001b[32m     92\u001b[39m     IntervalIndex,\n\u001b[32m     93\u001b[39m     TimedeltaIndex,\n\u001b[32m     94\u001b[39m     DatetimeIndex,\n\u001b[32m     95\u001b[39m     PeriodIndex,\n\u001b[32m     96\u001b[39m     IndexSlice,\n\u001b[32m     97\u001b[39m     \u001b[38;5;66;03m# tseries\u001b[39;00m\n\u001b[32m     98\u001b[39m     NaT,\n\u001b[32m     99\u001b[39m     Period,\n\u001b[32m    100\u001b[39m     period_range,\n\u001b[32m    101\u001b[39m     Timedelta,\n\u001b[32m    102\u001b[39m     timedelta_range,\n\u001b[32m    103\u001b[39m     Timestamp,\n\u001b[32m    104\u001b[39m     date_range,\n\u001b[32m    105\u001b[39m     bdate_range,\n\u001b[32m    106\u001b[39m     Interval,\n\u001b[32m    107\u001b[39m     interval_range,\n\u001b[32m    108\u001b[39m     DateOffset,\n\u001b[32m    109\u001b[39m     \u001b[38;5;66;03m# conversion\u001b[39;00m\n\u001b[32m    110\u001b[39m     to_numeric,\n\u001b[32m    111\u001b[39m     to_datetime,\n\u001b[32m    112\u001b[39m     to_timedelta,\n\u001b[32m    113\u001b[39m     \u001b[38;5;66;03m# misc\u001b[39;00m\n\u001b[32m    114\u001b[39m     Flags,\n\u001b[32m    115\u001b[39m     Grouper,\n\u001b[32m    116\u001b[39m     factorize,\n\u001b[32m    117\u001b[39m     unique,\n\u001b[32m    118\u001b[39m     value_counts,\n\u001b[32m    119\u001b[39m     NamedAgg,\n\u001b[32m    120\u001b[39m     array,\n\u001b[32m    121\u001b[39m     Categorical,\n\u001b[32m    122\u001b[39m     set_eng_float_format,\n\u001b[32m    123\u001b[39m     Series,\n\u001b[32m    124\u001b[39m     DataFrame,\n\u001b[32m    125\u001b[39m )\n\u001b[32m    127\u001b[39m \u001b[38;5;28;01mfrom\u001b[39;00m\u001b[38;5;250m \u001b[39m\u001b[34;01mpandas\u001b[39;00m\u001b[34;01m.\u001b[39;00m\u001b[34;01mcore\u001b[39;00m\u001b[34;01m.\u001b[39;00m\u001b[34;01mdtypes\u001b[39;00m\u001b[34;01m.\u001b[39;00m\u001b[34;01mdtypes\u001b[39;00m\u001b[38;5;250m \u001b[39m\u001b[38;5;28;01mimport\u001b[39;00m SparseDtype\n\u001b[32m    129\u001b[39m \u001b[38;5;28;01mfrom\u001b[39;00m\u001b[38;5;250m \u001b[39m\u001b[34;01mpandas\u001b[39;00m\u001b[34;01m.\u001b[39;00m\u001b[34;01mtseries\u001b[39;00m\u001b[34;01m.\u001b[39;00m\u001b[34;01mapi\u001b[39;00m\u001b[38;5;250m \u001b[39m\u001b[38;5;28;01mimport\u001b[39;00m infer_freq\n",
      "\u001b[36mFile \u001b[39m\u001b[32m~\\AppData\\Local\\Packages\\PythonSoftwareFoundation.Python.3.12_qbz5n2kfra8p0\\LocalCache\\local-packages\\Python312\\site-packages\\pandas\\core\\api.py:28\u001b[39m\n\u001b[32m     16\u001b[39m \u001b[38;5;28;01mfrom\u001b[39;00m\u001b[38;5;250m \u001b[39m\u001b[34;01mpandas\u001b[39;00m\u001b[34;01m.\u001b[39;00m\u001b[34;01mcore\u001b[39;00m\u001b[34;01m.\u001b[39;00m\u001b[34;01mdtypes\u001b[39;00m\u001b[34;01m.\u001b[39;00m\u001b[34;01mmissing\u001b[39;00m\u001b[38;5;250m \u001b[39m\u001b[38;5;28;01mimport\u001b[39;00m (\n\u001b[32m     17\u001b[39m     isna,\n\u001b[32m     18\u001b[39m     isnull,\n\u001b[32m     19\u001b[39m     notna,\n\u001b[32m     20\u001b[39m     notnull,\n\u001b[32m     21\u001b[39m )\n\u001b[32m     23\u001b[39m \u001b[38;5;28;01mfrom\u001b[39;00m\u001b[38;5;250m \u001b[39m\u001b[34;01mpandas\u001b[39;00m\u001b[34;01m.\u001b[39;00m\u001b[34;01mcore\u001b[39;00m\u001b[34;01m.\u001b[39;00m\u001b[34;01malgorithms\u001b[39;00m\u001b[38;5;250m \u001b[39m\u001b[38;5;28;01mimport\u001b[39;00m (\n\u001b[32m     24\u001b[39m     factorize,\n\u001b[32m     25\u001b[39m     unique,\n\u001b[32m     26\u001b[39m     value_counts,\n\u001b[32m     27\u001b[39m )\n\u001b[32m---> \u001b[39m\u001b[32m28\u001b[39m \u001b[38;5;28;01mfrom\u001b[39;00m\u001b[38;5;250m \u001b[39m\u001b[34;01mpandas\u001b[39;00m\u001b[34;01m.\u001b[39;00m\u001b[34;01mcore\u001b[39;00m\u001b[34;01m.\u001b[39;00m\u001b[34;01marrays\u001b[39;00m\u001b[38;5;250m \u001b[39m\u001b[38;5;28;01mimport\u001b[39;00m Categorical\n\u001b[32m     29\u001b[39m \u001b[38;5;28;01mfrom\u001b[39;00m\u001b[38;5;250m \u001b[39m\u001b[34;01mpandas\u001b[39;00m\u001b[34;01m.\u001b[39;00m\u001b[34;01mcore\u001b[39;00m\u001b[34;01m.\u001b[39;00m\u001b[34;01marrays\u001b[39;00m\u001b[34;01m.\u001b[39;00m\u001b[34;01mboolean\u001b[39;00m\u001b[38;5;250m \u001b[39m\u001b[38;5;28;01mimport\u001b[39;00m BooleanDtype\n\u001b[32m     30\u001b[39m \u001b[38;5;28;01mfrom\u001b[39;00m\u001b[38;5;250m \u001b[39m\u001b[34;01mpandas\u001b[39;00m\u001b[34;01m.\u001b[39;00m\u001b[34;01mcore\u001b[39;00m\u001b[34;01m.\u001b[39;00m\u001b[34;01marrays\u001b[39;00m\u001b[34;01m.\u001b[39;00m\u001b[34;01mfloating\u001b[39;00m\u001b[38;5;250m \u001b[39m\u001b[38;5;28;01mimport\u001b[39;00m (\n\u001b[32m     31\u001b[39m     Float32Dtype,\n\u001b[32m     32\u001b[39m     Float64Dtype,\n\u001b[32m     33\u001b[39m )\n",
      "\u001b[36mFile \u001b[39m\u001b[32m~\\AppData\\Local\\Packages\\PythonSoftwareFoundation.Python.3.12_qbz5n2kfra8p0\\LocalCache\\local-packages\\Python312\\site-packages\\pandas\\core\\arrays\\__init__.py:12\u001b[39m\n\u001b[32m     10\u001b[39m \u001b[38;5;28;01mfrom\u001b[39;00m\u001b[38;5;250m \u001b[39m\u001b[34;01mpandas\u001b[39;00m\u001b[34;01m.\u001b[39;00m\u001b[34;01mcore\u001b[39;00m\u001b[34;01m.\u001b[39;00m\u001b[34;01marrays\u001b[39;00m\u001b[34;01m.\u001b[39;00m\u001b[34;01mfloating\u001b[39;00m\u001b[38;5;250m \u001b[39m\u001b[38;5;28;01mimport\u001b[39;00m FloatingArray\n\u001b[32m     11\u001b[39m \u001b[38;5;28;01mfrom\u001b[39;00m\u001b[38;5;250m \u001b[39m\u001b[34;01mpandas\u001b[39;00m\u001b[34;01m.\u001b[39;00m\u001b[34;01mcore\u001b[39;00m\u001b[34;01m.\u001b[39;00m\u001b[34;01marrays\u001b[39;00m\u001b[34;01m.\u001b[39;00m\u001b[34;01minteger\u001b[39;00m\u001b[38;5;250m \u001b[39m\u001b[38;5;28;01mimport\u001b[39;00m IntegerArray\n\u001b[32m---> \u001b[39m\u001b[32m12\u001b[39m \u001b[38;5;28;01mfrom\u001b[39;00m\u001b[38;5;250m \u001b[39m\u001b[34;01mpandas\u001b[39;00m\u001b[34;01m.\u001b[39;00m\u001b[34;01mcore\u001b[39;00m\u001b[34;01m.\u001b[39;00m\u001b[34;01marrays\u001b[39;00m\u001b[34;01m.\u001b[39;00m\u001b[34;01minterval\u001b[39;00m\u001b[38;5;250m \u001b[39m\u001b[38;5;28;01mimport\u001b[39;00m IntervalArray\n\u001b[32m     13\u001b[39m \u001b[38;5;28;01mfrom\u001b[39;00m\u001b[38;5;250m \u001b[39m\u001b[34;01mpandas\u001b[39;00m\u001b[34;01m.\u001b[39;00m\u001b[34;01mcore\u001b[39;00m\u001b[34;01m.\u001b[39;00m\u001b[34;01marrays\u001b[39;00m\u001b[34;01m.\u001b[39;00m\u001b[34;01mmasked\u001b[39;00m\u001b[38;5;250m \u001b[39m\u001b[38;5;28;01mimport\u001b[39;00m BaseMaskedArray\n\u001b[32m     14\u001b[39m \u001b[38;5;28;01mfrom\u001b[39;00m\u001b[38;5;250m \u001b[39m\u001b[34;01mpandas\u001b[39;00m\u001b[34;01m.\u001b[39;00m\u001b[34;01mcore\u001b[39;00m\u001b[34;01m.\u001b[39;00m\u001b[34;01marrays\u001b[39;00m\u001b[34;01m.\u001b[39;00m\u001b[34;01mnumpy_\u001b[39;00m\u001b[38;5;250m \u001b[39m\u001b[38;5;28;01mimport\u001b[39;00m NumpyExtensionArray\n",
      "\u001b[36mFile \u001b[39m\u001b[32m<frozen importlib._bootstrap>:1360\u001b[39m, in \u001b[36m_find_and_load\u001b[39m\u001b[34m(name, import_)\u001b[39m\n",
      "\u001b[36mFile \u001b[39m\u001b[32m<frozen importlib._bootstrap>:1331\u001b[39m, in \u001b[36m_find_and_load_unlocked\u001b[39m\u001b[34m(name, import_)\u001b[39m\n",
      "\u001b[36mFile \u001b[39m\u001b[32m<frozen importlib._bootstrap>:935\u001b[39m, in \u001b[36m_load_unlocked\u001b[39m\u001b[34m(spec)\u001b[39m\n",
      "\u001b[36mFile \u001b[39m\u001b[32m<frozen importlib._bootstrap_external>:995\u001b[39m, in \u001b[36mexec_module\u001b[39m\u001b[34m(self, module)\u001b[39m\n",
      "\u001b[36mFile \u001b[39m\u001b[32m<frozen importlib._bootstrap_external>:1091\u001b[39m, in \u001b[36mget_code\u001b[39m\u001b[34m(self, fullname)\u001b[39m\n",
      "\u001b[36mFile \u001b[39m\u001b[32m<frozen importlib._bootstrap_external>:1190\u001b[39m, in \u001b[36mget_data\u001b[39m\u001b[34m(self, path)\u001b[39m\n",
      "\u001b[31mKeyboardInterrupt\u001b[39m: "
     ]
    }
   ],
   "source": [
    "import plotly.graph_objects as go\n",
    "import pandas as pd\n",
    "import yfinance as yf\n",
    "import time\n",
    "from datetime import datetime, timedelta\n",
    "from IPython.display import clear_output, display\n",
    "\n",
    "def get_eurcad_data(interval=\"5m\", period=\"1d\"):\n",
    "    try:\n",
    "        eurcad = yf.Ticker(\"EURCAD=X\")\n",
    "        data = eurcad.history(period=period, interval=interval)\n",
    "        return data\n",
    "    except Exception as e:\n",
    "        print(f\"Error fetching data: {e}\")\n",
    "        return None\n",
    "\n",
    "def calculate_sma(data, window):\n",
    "    return data['Close'].rolling(window=window).mean()\n",
    "\n",
    "def calculate_rsi(data, window=14):\n",
    "    delta = data['Close'].diff()\n",
    "    up = delta.clip(lower=0)\n",
    "    down = -1 * delta.clip(upper=0)\n",
    "    ema_up = up.rolling(window=window).mean()\n",
    "    ema_down = down.rolling(window=window).mean()\n",
    "    rs = ema_up / ema_down\n",
    "    return 100 - (100 / (1 + rs))\n",
    "\n",
    "def calculate_macd(data):\n",
    "    short_ema = data['Close'].ewm(span=12, adjust=False).mean()\n",
    "    long_ema = data['Close'].ewm(span=26, adjust=False).mean()\n",
    "    macd = short_ema - long_ema\n",
    "    signal = macd.ewm(span=9, adjust=False).mean()\n",
    "    return macd, signal\n",
    "\n",
    "def calculate_bollinger_bands(data, window=20):\n",
    "    sma = calculate_sma(data, window)\n",
    "    std = data['Close'].rolling(window=window).std()\n",
    "    upper_band = sma + (std * 2)\n",
    "    lower_band = sma - (std * 2)\n",
    "    return upper_band, lower_band\n",
    "\n",
    "def find_support_resistance(data):\n",
    "    support = data['Low'].rolling(window=10).min()\n",
    "    resistance = data['High'].rolling(window=10).max()\n",
    "    return support, resistance\n",
    "\n",
    "def analyze_and_generate_signals(data):\n",
    "    if data is None or data.empty or len(data) < 20:\n",
    "        return None, None\n",
    "    \n",
    "    sma_short = calculate_sma(data, window=9)\n",
    "    sma_long = calculate_sma(data, window=18)\n",
    "    rsi = calculate_rsi(data, window=14)\n",
    "    macd, signal = calculate_macd(data)\n",
    "    upper_band, lower_band = calculate_bollinger_bands(data)\n",
    "    support, resistance = find_support_resistance(data)\n",
    "    \n",
    "    last_price = data['Close'].iloc[-1]\n",
    "    current_time = datetime.utcnow() - timedelta(hours=3)  # UTC -3\n",
    "    trade_time = (current_time + timedelta(minutes=5)).strftime(\"%H:%M\")\n",
    "    \n",
    "    # Determine signal type\n",
    "    signal_type = None\n",
    "    if sma_short.iloc[-1] > sma_long.iloc[-1] and rsi.iloc[-1] < 70:\n",
    "        signal_type = \"CALL 🟩\"\n",
    "    elif sma_short.iloc[-1] < sma_long.iloc[-1] and rsi.iloc[-1] > 30:\n",
    "        signal_type = \"PUT 🟥\"\n",
    "    \n",
    "    if macd.iloc[-1] > signal.iloc[-1] and macd.iloc[-2] <= signal.iloc[-2]:\n",
    "        signal_type = \"CALL 🟩\"\n",
    "    elif macd.iloc[-1] < signal.iloc[-1] and macd.iloc[-2] >= signal.iloc[-2]:\n",
    "        signal_type = \"PUT 🟥\"\n",
    "    \n",
    "    if last_price < lower_band.iloc[-1]:\n",
    "        signal_type = \"CALL 🟩\"\n",
    "    elif last_price > upper_band.iloc[-1]:\n",
    "        signal_type = \"PUT 🟥\"\n",
    "    \n",
    "    if last_price <= support.iloc[-1]:\n",
    "        signal_type = \"CALL 🟩\"\n",
    "    elif last_price >= resistance.iloc[-1]:\n",
    "        signal_type = \"PUT 🟥\"\n",
    "    \n",
    "    if signal_type:\n",
    "        signal_text = f\"💰 5 minutes expiry\\nEUR/CAD;{trade_time};{signal_type}\\n🕐 TIME TO {trade_time}\"  \n",
    "        return signal_text, trade_time\n",
    "    return None, None\n",
    "\n",
    "def create_candlestick_chart(data, title):\n",
    "    if data is None or data.empty:\n",
    "        print(f\"No data to display for {title}.\")\n",
    "        return None\n",
    "    \n",
    "    fig = go.Figure(data=[go.Candlestick(x=data.index,\n",
    "                                         open=data['Open'],\n",
    "                                         high=data['High'],\n",
    "                                         low=data['Low'],\n",
    "                                         close=data['Close'])])\n",
    "    fig.update_layout(title=title, xaxis_title='Time', yaxis_title='Price', xaxis_rangeslider_visible=False)\n",
    "    return fig\n",
    "\n",
    "def update_charts_and_signals():\n",
    "    signals_history = []\n",
    "    try:\n",
    "        while True:\n",
    "            data_5min = get_eurcad_data(interval=\"5m\")\n",
    "            fig_5min = create_candlestick_chart(data_5min, \"EUR/CAD 5-Minute Chart\")\n",
    "            \n",
    "            if fig_5min is not None:\n",
    "                signal_text, trade_time = analyze_and_generate_signals(data_5min)\n",
    "                \n",
    "                if signal_text:\n",
    "                    signals_history.append(signal_text)\n",
    "                    signals_history = signals_history[-5:]\n",
    "                    clear_output(wait=True)\n",
    "                    display(fig_5min)\n",
    "                    print(\"Trading Signals:\")\n",
    "                    for signal in signals_history:\n",
    "                        print(signal)\n",
    "                else:\n",
    "                    clear_output(wait=True)\n",
    "                    display(fig_5min)\n",
    "                    print(\"No New Trading Signals\")\n",
    "            \n",
    "            time.sleep(600)  # 10-minute interval\n",
    "    except KeyboardInterrupt:\n",
    "        print(\"Chart update stopped.\")\n",
    "\n",
    "if __name__ == \"__main__\":\n",
    "    update_charts_and_signals()\n"
   ]
  },
  {
   "cell_type": "code",
   "execution_count": 5,
   "metadata": {},
   "outputs": [
    {
     "name": "stdout",
     "output_type": "stream",
     "text": [
      "Defaulting to user installation because normal site-packages is not writeable\n",
      "Requirement already satisfied: pandas in c:\\users\\anshal-kanav\\appdata\\local\\packages\\pythonsoftwarefoundation.python.3.12_qbz5n2kfra8p0\\localcache\\local-packages\\python312\\site-packages (2.2.3)\n",
      "Requirement already satisfied: numpy>=1.26.0 in c:\\users\\anshal-kanav\\appdata\\local\\packages\\pythonsoftwarefoundation.python.3.12_qbz5n2kfra8p0\\localcache\\local-packages\\python312\\site-packages (from pandas) (2.2.3)\n",
      "Requirement already satisfied: python-dateutil>=2.8.2 in c:\\users\\anshal-kanav\\appdata\\local\\packages\\pythonsoftwarefoundation.python.3.12_qbz5n2kfra8p0\\localcache\\local-packages\\python312\\site-packages (from pandas) (2.9.0.post0)\n",
      "Requirement already satisfied: pytz>=2020.1 in c:\\users\\anshal-kanav\\appdata\\local\\packages\\pythonsoftwarefoundation.python.3.12_qbz5n2kfra8p0\\localcache\\local-packages\\python312\\site-packages (from pandas) (2025.1)\n",
      "Requirement already satisfied: tzdata>=2022.7 in c:\\users\\anshal-kanav\\appdata\\local\\packages\\pythonsoftwarefoundation.python.3.12_qbz5n2kfra8p0\\localcache\\local-packages\\python312\\site-packages (from pandas) (2025.1)\n",
      "Requirement already satisfied: six>=1.5 in c:\\users\\anshal-kanav\\appdata\\local\\packages\\pythonsoftwarefoundation.python.3.12_qbz5n2kfra8p0\\localcache\\local-packages\\python312\\site-packages (from python-dateutil>=2.8.2->pandas) (1.17.0)\n",
      "Note: you may need to restart the kernel to use updated packages.\n"
     ]
    }
   ],
   "source": [
    "pip install pandas"
   ]
  },
  {
   "cell_type": "code",
   "execution_count": null,
   "metadata": {},
   "outputs": [
    {
     "data": {
      "application/vnd.plotly.v1+json": {
       "config": {
        "plotlyServerURL": "https://plot.ly"
       },
       "data": [
        {
         "close": {
          "bdata": "AAAAYIsy+T8AAACgUjP5PwAAAOBlMfk/AAAAoM4x+T8AAAAALTL5PwAAAKANMvk/AAAAIAMy+T8AAAAAgTL5PwAAAMCPMfk/AAAAAP0w+T8AAABgMTH5PwAAAKDwLvk/AAAAQBYw+T8AAABAFjD5PwAAAEABMPk/AAAAoF8w+T8AAAAA/TD5PwAAAABsMvk/AAAA4NQy+T8AAACgZzP5PwAAAKA9M/k/AAAAwLkx+T8AAACAyDD5PwAAAKCeMPk/AAAAIAMy+T8AAAAALTL5PwAAAAASMfk/AAAAYDEx+T8AAACgnjD5PwAAACB/MPk/AAAAgDcy+T8AAAAgGDL5PwAAAECvMfk/AAAAIAMy+T8AAAAg7jH5PwAAAMCkMfk/AAAAIJQw+T8AAAAglDD5PwAAAADTMPk/AAAAoF8w+T8AAADgzC/5PwAAAEABMPk/AAAAgJgv+T8AAACAgy/5PwAAAODML/k/AAAAQCsw+T8AAACgdDD5PwAAAIAHMfk/AAAAYBwx+T8AAACA3TD5PwAAAAD9MPk/AAAAoLMw+T8AAADA/jL5PwAAAIBMMvk/AAAAQK8x+T8AAABgtTL5PwAAAOC/Mvk/AAAA4L8y+T8AAABACTP5PwAAAKANMvk/AAAAwHox+T8AAACABzH5PwAAAKBfMPk/AAAAQFUw+T8AAADgty/5PwAAAOCHLvk/AAAA4F0u+T8AAADAxi75PwAAAGCtL/k/AAAAQEAw+T8AAAAA0zD5PwAAAECvMfk/AAAAIEgz+T8AAACgwTT5PwAAAACcM/k/AAAAYCQ0+T8AAABAjTT5PwAAAICENvk/AAAAwPE1+T8AAABgkzX5PwAAAIBUNfk/AAAAgNAz+T8AAABg+jP5PwAAAMCXNPk/AAAAQI00+T8AAAAgOzb5PwAAAAB1PPk/AAAAAIo8+T8AAAAgpT35PwAAACDAPvk/AAAAYDo7+T8AAABAXjr5PwAAAIAdOPk/AAAAIIcz+T8AAACgZzP5PwAAAMBYNPk/AAAAYFw4+T8AAACA8zf5PwAAAKCfN/k/AAAAwLo4+T8AAAAgnTr5PwAAAACXOfk/AAAAAPE6+T8AAADgkDj5PwAAAMC6OPk/",
          "dtype": "f8"
         },
         "high": {
          "bdata": "AAAAoOs0+T8AAADgQzT5PwAAACBdM/k/AAAAgHYy+T8AAADglTL5PwAAAIB2Mvk/AAAAwBMz+T8AAABg3zL5PwAAAMD+Mvk/AAAAINkx+T8AAADgOzH5PwAAAOAmMfk/AAAAAP0w+T8AAACA8jD5PwAAAAC+MPk/AAAAgPIw+T8AAABgMTH5PwAAAEAJM/k/AAAAwBMz+T8AAACApjP5PwAAAIDlM/k/AAAAIEgz+T8AAACgzjH5PwAAAAASMfk/AAAAYN8y+T8AAABgoDL5PwAAAIB2Mvk/AAAAAC0y+T8AAADgUDH5PwAAAADoMPk/AAAA4JUy+T8AAABgizL5PwAAAMATM/k/AAAAAIEy+T8AAAAAgTL5PwAAAACBMvk/AAAAIBgy+T8AAACA8jD5PwAAAOA7Mfk/AAAAQIUx+T8AAACA3TD5PwAAAEArMPk/AAAAQCsw+T8AAADAIDD5PwAAAKBfMPk/AAAAAOgw+T8AAACA8jD5PwAAAOA7Mfk/AAAAYFsx+T8AAADgOzH5PwAAAMCPMfk/AAAA4FAx+T8AAABACTP5PwAAAKBnM/k/AAAAYIsy+T8AAABA9DL5PwAAAKB8M/k/AAAAwCgz+T8AAAAgXTP5PwAAAKBnM/k/AAAAgGEy+T8AAACgzjH5PwAAAIAHMfk/AAAAgPIw+T8AAACA8jD5PwAAAMAgMPk/AAAAoEQv+T8AAADgzC/5PwAAAMALMPk/AAAAgPIw+T8AAABgWzH5PwAAAKAiMvk/AAAAIHIz+T8AAADgczX5PwAAAIBUNfk/AAAAQI00+T8AAACAFTX5PwAAAICuNvk/AAAAoLQ3+T8AAAAgZTb5PwAAAKBFNvk/AAAAYL01+T8AAAAg4TT5PwAAAABfNfk/AAAAIFA2+T8AAACAhDb5PwAAAEASPfk/AAAAYL48+T8AAACA7j35PwAAAGCcP/k/AAAAIP8++T8AAABAozv5PwAAAGBkO/k/AAAAgDI4+T8AAACg1jT5PwAAAABKNfk/AAAAYFw4+T8AAADAFDr5PwAAAKBNOfk/AAAAAPE6+T8AAAAAGzv5PwAAAADcOvk/AAAAgH88+T8AAAAgDDz5PwAAAGB5O/k/",
          "dtype": "f8"
         },
         "low": {
          "bdata": "AAAA4GUx+T8AAACgXzD5PwAAAAD9MPk/AAAAQAEw+T8AAACgszD5PwAAAEAWMPk/AAAAoLMw+T8AAABg7C/5PwAAAKCzMPk/AAAAICUv+T8AAABgUy75PwAAAKCBLfk/AAAAILYt+T8AAABgaC75PwAAAMCcLvk/AAAAwMYu+T8AAACAFC75PwAAAGCtL/k/AAAAgN0w+T8AAADAjzH5PwAAAOBlMfk/AAAAoIkw+T8AAACAmC/5PwAAAOBdLvk/AAAAwEow+T8AAAAgajD5PwAAAGCtL/k/AAAAwMYu+T8AAADA2y75PwAAAECnLvk/AAAA4PYv+T8AAACgszD5PwAAAAD9MPk/AAAAQFUw+T8AAABAFjD5PwAAAMA1MPk/AAAA4Lcv+T8AAABgPi75PwAAACAQL/k/AAAAAE8v+T8AAABA5i75PwAAAKCBLfk/AAAAgOot+T8AAAAgoS35PwAAAECSLvk/AAAA4Egu+T8AAADA2y75PwAAACAlL/k/AAAAgFkv+T8AAACAbi/5PwAAAKAvL/k/AAAAICUv+T8AAADgty/5PwAAAOBlMfk/AAAAoF8w+T8AAABAFjD5PwAAAOBQMfk/AAAAoLMw+T8AAADApDH5PwAAAOAmMfk/AAAAgJgv+T8AAACAbi/5PwAAAIApLvk/AAAAwLEu+T8AAADAnC75PwAAAEA4Lfk/AAAAgHss+T8AAAAAsCz5PwAAAEB3Lfk/AAAAYFMu+T8AAABgfS75PwAAAACOL/k/AAAAYOwv+T8AAAAg7jH5PwAAACByM/k/AAAA4JUy+T8AAAAAgTL5PwAAAMATM/k/AAAA4HM1+T8AAACgkTP5PwAAAGAPNPk/AAAAAEIy+T8AAACATDL5PwAAAIA3Mvk/AAAAYIsy+T8AAADglTL5PwAAAMDHNfk/AAAAQB86+T8AAACA0Tr5PwAAAKArPPk/AAAAAPE6+T8AAABAxTj5PwAAACCVN/k/AAAAAFcy+T8AAABgHDH5PwAAAOAmMfk/AAAAoOMx+T8AAAAApDb5PwAAAABfNfk/AAAAgMM2+T8AAADAijf5PwAAAIAIOPk/AAAAACg4+T8AAABg2Db5PwAAAMBLN/k/",
          "dtype": "f8"
         },
         "open": {
          "bdata": "AAAAQKI0+T8AAAAAgTL5PwAAAMD+Mvk/AAAAQHAx+T8AAAAg7jH5PwAAAIA3Mvk/AAAAoCIy+T8AAAAg7jH5PwAAAABCMvk/AAAAwLkx+T8AAAAA0zD5PwAAAADTMPk/AAAAQNEu+T8AAADAIDD5PwAAAEArMPk/AAAAQCsw+T8AAACgdDD5PwAAAAD9MPk/AAAAgHYy+T8AAABg3zL5PwAAACCHM/k/AAAAwP4y+T8AAADAjzH5PwAAAIDIMPk/AAAAgMgw+T8AAACgzjH5PwAAAKANMvk/AAAA4CYx+T8AAADgJjH5PwAAACBqMPk/AAAAIJQw+T8AAAAAQjL5PwAAAKDjMfk/AAAAoM4x+T8AAABAxDH5PwAAAEDEMfk/AAAAQK8x+T8AAACgdDD5PwAAAKCeMPk/AAAAgPIw+T8AAADANTD5PwAAAIBZL/k/AAAAYMIv+T8AAAAAZC/5PwAAAOC3L/k/AAAA4Mwv+T8AAADANTD5PwAAAKB0MPk/AAAAgPIw+T8AAAAAEjH5PwAAACCUMPk/AAAAgAcx+T8AAACgdDD5PwAAAMDpMvk/AAAAAFcy+T8AAADApDH5PwAAAODUMvk/AAAAAIEy+T8AAADA6TL5PwAAAOC/Mvk/AAAAoCIy+T8AAAAAEjH5PwAAAIDIMPk/AAAAwEow+T8AAADASjD5PwAAAIBuL/k/AAAA4HIu+T8AAADgMy75PwAAAGB9Lvk/AAAA4Mwv+T8AAADASjD5PwAAAOAmMfk/AAAAwI8x+T8AAABACTP5PwAAAKDrNPk/AAAAAPAz+T8AAAAA2zP5PwAAAECNNPk/AAAAoEU2+T8AAAAgOzb5PwAAAOCdNfk/AAAA4Ig1+T8AAAAgcjP5PwAAAADwM/k/AAAAQI00+T8AAADAlzT5PwAAACAmNvk/AAAAgH88+T8AAAAASzz5PwAAAMBGPfk/AAAAwHY++T8AAAAABjv5PwAAAKCSOvk/AAAAACg4+T8AAACgfDP5PwAAAKCRM/k/AAAAQKI0+T8AAACAHTj5PwAAAIAdOPk/AAAAoJ83+T8AAABgcTj5PwAAACCIOvk/AAAAYMs5+T8AAABgZDv5PwAAAIAdOPk/",
          "dtype": "f8"
         },
         "type": "candlestick",
         "x": [
          "2025-03-12T00:00:00+00:00",
          "2025-03-12T00:05:00+00:00",
          "2025-03-12T00:10:00+00:00",
          "2025-03-12T00:15:00+00:00",
          "2025-03-12T00:20:00+00:00",
          "2025-03-12T00:25:00+00:00",
          "2025-03-12T00:30:00+00:00",
          "2025-03-12T00:35:00+00:00",
          "2025-03-12T00:40:00+00:00",
          "2025-03-12T00:45:00+00:00",
          "2025-03-12T00:50:00+00:00",
          "2025-03-12T00:55:00+00:00",
          "2025-03-12T01:00:00+00:00",
          "2025-03-12T01:05:00+00:00",
          "2025-03-12T01:10:00+00:00",
          "2025-03-12T01:15:00+00:00",
          "2025-03-12T01:20:00+00:00",
          "2025-03-12T01:25:00+00:00",
          "2025-03-12T01:30:00+00:00",
          "2025-03-12T01:35:00+00:00",
          "2025-03-12T01:40:00+00:00",
          "2025-03-12T01:45:00+00:00",
          "2025-03-12T01:50:00+00:00",
          "2025-03-12T01:55:00+00:00",
          "2025-03-12T02:00:00+00:00",
          "2025-03-12T02:05:00+00:00",
          "2025-03-12T02:10:00+00:00",
          "2025-03-12T02:15:00+00:00",
          "2025-03-12T02:20:00+00:00",
          "2025-03-12T02:25:00+00:00",
          "2025-03-12T02:30:00+00:00",
          "2025-03-12T02:35:00+00:00",
          "2025-03-12T02:40:00+00:00",
          "2025-03-12T02:45:00+00:00",
          "2025-03-12T02:50:00+00:00",
          "2025-03-12T02:55:00+00:00",
          "2025-03-12T03:00:00+00:00",
          "2025-03-12T03:05:00+00:00",
          "2025-03-12T03:10:00+00:00",
          "2025-03-12T03:15:00+00:00",
          "2025-03-12T03:20:00+00:00",
          "2025-03-12T03:25:00+00:00",
          "2025-03-12T03:30:00+00:00",
          "2025-03-12T03:35:00+00:00",
          "2025-03-12T03:40:00+00:00",
          "2025-03-12T03:45:00+00:00",
          "2025-03-12T03:50:00+00:00",
          "2025-03-12T03:55:00+00:00",
          "2025-03-12T04:00:00+00:00",
          "2025-03-12T04:05:00+00:00",
          "2025-03-12T04:10:00+00:00",
          "2025-03-12T04:15:00+00:00",
          "2025-03-12T04:20:00+00:00",
          "2025-03-12T04:25:00+00:00",
          "2025-03-12T04:30:00+00:00",
          "2025-03-12T04:35:00+00:00",
          "2025-03-12T04:40:00+00:00",
          "2025-03-12T04:45:00+00:00",
          "2025-03-12T04:50:00+00:00",
          "2025-03-12T04:55:00+00:00",
          "2025-03-12T05:00:00+00:00",
          "2025-03-12T05:05:00+00:00",
          "2025-03-12T05:10:00+00:00",
          "2025-03-12T05:15:00+00:00",
          "2025-03-12T05:20:00+00:00",
          "2025-03-12T05:25:00+00:00",
          "2025-03-12T05:30:00+00:00",
          "2025-03-12T05:35:00+00:00",
          "2025-03-12T05:40:00+00:00",
          "2025-03-12T05:45:00+00:00",
          "2025-03-12T05:50:00+00:00",
          "2025-03-12T05:55:00+00:00",
          "2025-03-12T06:00:00+00:00",
          "2025-03-12T06:05:00+00:00",
          "2025-03-12T06:10:00+00:00",
          "2025-03-12T06:15:00+00:00",
          "2025-03-12T06:20:00+00:00",
          "2025-03-12T06:25:00+00:00",
          "2025-03-12T06:30:00+00:00",
          "2025-03-12T06:35:00+00:00",
          "2025-03-12T06:40:00+00:00",
          "2025-03-12T06:45:00+00:00",
          "2025-03-12T06:50:00+00:00",
          "2025-03-12T06:55:00+00:00",
          "2025-03-12T07:00:00+00:00",
          "2025-03-12T07:05:00+00:00",
          "2025-03-12T07:10:00+00:00",
          "2025-03-12T07:15:00+00:00",
          "2025-03-12T07:20:00+00:00",
          "2025-03-12T07:25:00+00:00",
          "2025-03-12T07:30:00+00:00",
          "2025-03-12T07:35:00+00:00",
          "2025-03-12T07:40:00+00:00",
          "2025-03-12T07:45:00+00:00",
          "2025-03-12T07:50:00+00:00",
          "2025-03-12T07:55:00+00:00",
          "2025-03-12T08:00:00+00:00",
          "2025-03-12T08:05:00+00:00",
          "2025-03-12T08:10:00+00:00",
          "2025-03-12T08:15:00+00:00",
          "2025-03-12T08:20:00+00:00",
          "2025-03-12T08:25:00+00:00",
          "2025-03-12T08:30:00+00:00",
          "2025-03-12T08:35:00+00:00",
          "2025-03-12T08:40:00+00:00"
         ]
        }
       ],
       "layout": {
        "template": {
         "data": {
          "bar": [
           {
            "error_x": {
             "color": "#2a3f5f"
            },
            "error_y": {
             "color": "#2a3f5f"
            },
            "marker": {
             "line": {
              "color": "#E5ECF6",
              "width": 0.5
             },
             "pattern": {
              "fillmode": "overlay",
              "size": 10,
              "solidity": 0.2
             }
            },
            "type": "bar"
           }
          ],
          "barpolar": [
           {
            "marker": {
             "line": {
              "color": "#E5ECF6",
              "width": 0.5
             },
             "pattern": {
              "fillmode": "overlay",
              "size": 10,
              "solidity": 0.2
             }
            },
            "type": "barpolar"
           }
          ],
          "carpet": [
           {
            "aaxis": {
             "endlinecolor": "#2a3f5f",
             "gridcolor": "white",
             "linecolor": "white",
             "minorgridcolor": "white",
             "startlinecolor": "#2a3f5f"
            },
            "baxis": {
             "endlinecolor": "#2a3f5f",
             "gridcolor": "white",
             "linecolor": "white",
             "minorgridcolor": "white",
             "startlinecolor": "#2a3f5f"
            },
            "type": "carpet"
           }
          ],
          "choropleth": [
           {
            "colorbar": {
             "outlinewidth": 0,
             "ticks": ""
            },
            "type": "choropleth"
           }
          ],
          "contour": [
           {
            "colorbar": {
             "outlinewidth": 0,
             "ticks": ""
            },
            "colorscale": [
             [
              0,
              "#0d0887"
             ],
             [
              0.1111111111111111,
              "#46039f"
             ],
             [
              0.2222222222222222,
              "#7201a8"
             ],
             [
              0.3333333333333333,
              "#9c179e"
             ],
             [
              0.4444444444444444,
              "#bd3786"
             ],
             [
              0.5555555555555556,
              "#d8576b"
             ],
             [
              0.6666666666666666,
              "#ed7953"
             ],
             [
              0.7777777777777778,
              "#fb9f3a"
             ],
             [
              0.8888888888888888,
              "#fdca26"
             ],
             [
              1,
              "#f0f921"
             ]
            ],
            "type": "contour"
           }
          ],
          "contourcarpet": [
           {
            "colorbar": {
             "outlinewidth": 0,
             "ticks": ""
            },
            "type": "contourcarpet"
           }
          ],
          "heatmap": [
           {
            "colorbar": {
             "outlinewidth": 0,
             "ticks": ""
            },
            "colorscale": [
             [
              0,
              "#0d0887"
             ],
             [
              0.1111111111111111,
              "#46039f"
             ],
             [
              0.2222222222222222,
              "#7201a8"
             ],
             [
              0.3333333333333333,
              "#9c179e"
             ],
             [
              0.4444444444444444,
              "#bd3786"
             ],
             [
              0.5555555555555556,
              "#d8576b"
             ],
             [
              0.6666666666666666,
              "#ed7953"
             ],
             [
              0.7777777777777778,
              "#fb9f3a"
             ],
             [
              0.8888888888888888,
              "#fdca26"
             ],
             [
              1,
              "#f0f921"
             ]
            ],
            "type": "heatmap"
           }
          ],
          "histogram": [
           {
            "marker": {
             "pattern": {
              "fillmode": "overlay",
              "size": 10,
              "solidity": 0.2
             }
            },
            "type": "histogram"
           }
          ],
          "histogram2d": [
           {
            "colorbar": {
             "outlinewidth": 0,
             "ticks": ""
            },
            "colorscale": [
             [
              0,
              "#0d0887"
             ],
             [
              0.1111111111111111,
              "#46039f"
             ],
             [
              0.2222222222222222,
              "#7201a8"
             ],
             [
              0.3333333333333333,
              "#9c179e"
             ],
             [
              0.4444444444444444,
              "#bd3786"
             ],
             [
              0.5555555555555556,
              "#d8576b"
             ],
             [
              0.6666666666666666,
              "#ed7953"
             ],
             [
              0.7777777777777778,
              "#fb9f3a"
             ],
             [
              0.8888888888888888,
              "#fdca26"
             ],
             [
              1,
              "#f0f921"
             ]
            ],
            "type": "histogram2d"
           }
          ],
          "histogram2dcontour": [
           {
            "colorbar": {
             "outlinewidth": 0,
             "ticks": ""
            },
            "colorscale": [
             [
              0,
              "#0d0887"
             ],
             [
              0.1111111111111111,
              "#46039f"
             ],
             [
              0.2222222222222222,
              "#7201a8"
             ],
             [
              0.3333333333333333,
              "#9c179e"
             ],
             [
              0.4444444444444444,
              "#bd3786"
             ],
             [
              0.5555555555555556,
              "#d8576b"
             ],
             [
              0.6666666666666666,
              "#ed7953"
             ],
             [
              0.7777777777777778,
              "#fb9f3a"
             ],
             [
              0.8888888888888888,
              "#fdca26"
             ],
             [
              1,
              "#f0f921"
             ]
            ],
            "type": "histogram2dcontour"
           }
          ],
          "mesh3d": [
           {
            "colorbar": {
             "outlinewidth": 0,
             "ticks": ""
            },
            "type": "mesh3d"
           }
          ],
          "parcoords": [
           {
            "line": {
             "colorbar": {
              "outlinewidth": 0,
              "ticks": ""
             }
            },
            "type": "parcoords"
           }
          ],
          "pie": [
           {
            "automargin": true,
            "type": "pie"
           }
          ],
          "scatter": [
           {
            "fillpattern": {
             "fillmode": "overlay",
             "size": 10,
             "solidity": 0.2
            },
            "type": "scatter"
           }
          ],
          "scatter3d": [
           {
            "line": {
             "colorbar": {
              "outlinewidth": 0,
              "ticks": ""
             }
            },
            "marker": {
             "colorbar": {
              "outlinewidth": 0,
              "ticks": ""
             }
            },
            "type": "scatter3d"
           }
          ],
          "scattercarpet": [
           {
            "marker": {
             "colorbar": {
              "outlinewidth": 0,
              "ticks": ""
             }
            },
            "type": "scattercarpet"
           }
          ],
          "scattergeo": [
           {
            "marker": {
             "colorbar": {
              "outlinewidth": 0,
              "ticks": ""
             }
            },
            "type": "scattergeo"
           }
          ],
          "scattergl": [
           {
            "marker": {
             "colorbar": {
              "outlinewidth": 0,
              "ticks": ""
             }
            },
            "type": "scattergl"
           }
          ],
          "scattermap": [
           {
            "marker": {
             "colorbar": {
              "outlinewidth": 0,
              "ticks": ""
             }
            },
            "type": "scattermap"
           }
          ],
          "scattermapbox": [
           {
            "marker": {
             "colorbar": {
              "outlinewidth": 0,
              "ticks": ""
             }
            },
            "type": "scattermapbox"
           }
          ],
          "scatterpolar": [
           {
            "marker": {
             "colorbar": {
              "outlinewidth": 0,
              "ticks": ""
             }
            },
            "type": "scatterpolar"
           }
          ],
          "scatterpolargl": [
           {
            "marker": {
             "colorbar": {
              "outlinewidth": 0,
              "ticks": ""
             }
            },
            "type": "scatterpolargl"
           }
          ],
          "scatterternary": [
           {
            "marker": {
             "colorbar": {
              "outlinewidth": 0,
              "ticks": ""
             }
            },
            "type": "scatterternary"
           }
          ],
          "surface": [
           {
            "colorbar": {
             "outlinewidth": 0,
             "ticks": ""
            },
            "colorscale": [
             [
              0,
              "#0d0887"
             ],
             [
              0.1111111111111111,
              "#46039f"
             ],
             [
              0.2222222222222222,
              "#7201a8"
             ],
             [
              0.3333333333333333,
              "#9c179e"
             ],
             [
              0.4444444444444444,
              "#bd3786"
             ],
             [
              0.5555555555555556,
              "#d8576b"
             ],
             [
              0.6666666666666666,
              "#ed7953"
             ],
             [
              0.7777777777777778,
              "#fb9f3a"
             ],
             [
              0.8888888888888888,
              "#fdca26"
             ],
             [
              1,
              "#f0f921"
             ]
            ],
            "type": "surface"
           }
          ],
          "table": [
           {
            "cells": {
             "fill": {
              "color": "#EBF0F8"
             },
             "line": {
              "color": "white"
             }
            },
            "header": {
             "fill": {
              "color": "#C8D4E3"
             },
             "line": {
              "color": "white"
             }
            },
            "type": "table"
           }
          ]
         },
         "layout": {
          "annotationdefaults": {
           "arrowcolor": "#2a3f5f",
           "arrowhead": 0,
           "arrowwidth": 1
          },
          "autotypenumbers": "strict",
          "coloraxis": {
           "colorbar": {
            "outlinewidth": 0,
            "ticks": ""
           }
          },
          "colorscale": {
           "diverging": [
            [
             0,
             "#8e0152"
            ],
            [
             0.1,
             "#c51b7d"
            ],
            [
             0.2,
             "#de77ae"
            ],
            [
             0.3,
             "#f1b6da"
            ],
            [
             0.4,
             "#fde0ef"
            ],
            [
             0.5,
             "#f7f7f7"
            ],
            [
             0.6,
             "#e6f5d0"
            ],
            [
             0.7,
             "#b8e186"
            ],
            [
             0.8,
             "#7fbc41"
            ],
            [
             0.9,
             "#4d9221"
            ],
            [
             1,
             "#276419"
            ]
           ],
           "sequential": [
            [
             0,
             "#0d0887"
            ],
            [
             0.1111111111111111,
             "#46039f"
            ],
            [
             0.2222222222222222,
             "#7201a8"
            ],
            [
             0.3333333333333333,
             "#9c179e"
            ],
            [
             0.4444444444444444,
             "#bd3786"
            ],
            [
             0.5555555555555556,
             "#d8576b"
            ],
            [
             0.6666666666666666,
             "#ed7953"
            ],
            [
             0.7777777777777778,
             "#fb9f3a"
            ],
            [
             0.8888888888888888,
             "#fdca26"
            ],
            [
             1,
             "#f0f921"
            ]
           ],
           "sequentialminus": [
            [
             0,
             "#0d0887"
            ],
            [
             0.1111111111111111,
             "#46039f"
            ],
            [
             0.2222222222222222,
             "#7201a8"
            ],
            [
             0.3333333333333333,
             "#9c179e"
            ],
            [
             0.4444444444444444,
             "#bd3786"
            ],
            [
             0.5555555555555556,
             "#d8576b"
            ],
            [
             0.6666666666666666,
             "#ed7953"
            ],
            [
             0.7777777777777778,
             "#fb9f3a"
            ],
            [
             0.8888888888888888,
             "#fdca26"
            ],
            [
             1,
             "#f0f921"
            ]
           ]
          },
          "colorway": [
           "#636efa",
           "#EF553B",
           "#00cc96",
           "#ab63fa",
           "#FFA15A",
           "#19d3f3",
           "#FF6692",
           "#B6E880",
           "#FF97FF",
           "#FECB52"
          ],
          "font": {
           "color": "#2a3f5f"
          },
          "geo": {
           "bgcolor": "white",
           "lakecolor": "white",
           "landcolor": "#E5ECF6",
           "showlakes": true,
           "showland": true,
           "subunitcolor": "white"
          },
          "hoverlabel": {
           "align": "left"
          },
          "hovermode": "closest",
          "mapbox": {
           "style": "light"
          },
          "paper_bgcolor": "white",
          "plot_bgcolor": "#E5ECF6",
          "polar": {
           "angularaxis": {
            "gridcolor": "white",
            "linecolor": "white",
            "ticks": ""
           },
           "bgcolor": "#E5ECF6",
           "radialaxis": {
            "gridcolor": "white",
            "linecolor": "white",
            "ticks": ""
           }
          },
          "scene": {
           "xaxis": {
            "backgroundcolor": "#E5ECF6",
            "gridcolor": "white",
            "gridwidth": 2,
            "linecolor": "white",
            "showbackground": true,
            "ticks": "",
            "zerolinecolor": "white"
           },
           "yaxis": {
            "backgroundcolor": "#E5ECF6",
            "gridcolor": "white",
            "gridwidth": 2,
            "linecolor": "white",
            "showbackground": true,
            "ticks": "",
            "zerolinecolor": "white"
           },
           "zaxis": {
            "backgroundcolor": "#E5ECF6",
            "gridcolor": "white",
            "gridwidth": 2,
            "linecolor": "white",
            "showbackground": true,
            "ticks": "",
            "zerolinecolor": "white"
           }
          },
          "shapedefaults": {
           "line": {
            "color": "#2a3f5f"
           }
          },
          "ternary": {
           "aaxis": {
            "gridcolor": "white",
            "linecolor": "white",
            "ticks": ""
           },
           "baxis": {
            "gridcolor": "white",
            "linecolor": "white",
            "ticks": ""
           },
           "bgcolor": "#E5ECF6",
           "caxis": {
            "gridcolor": "white",
            "linecolor": "white",
            "ticks": ""
           }
          },
          "title": {
           "x": 0.05
          },
          "xaxis": {
           "automargin": true,
           "gridcolor": "white",
           "linecolor": "white",
           "ticks": "",
           "title": {
            "standoff": 15
           },
           "zerolinecolor": "white",
           "zerolinewidth": 2
          },
          "yaxis": {
           "automargin": true,
           "gridcolor": "white",
           "linecolor": "white",
           "ticks": "",
           "title": {
            "standoff": 15
           },
           "zerolinecolor": "white",
           "zerolinewidth": 2
          }
         }
        },
        "title": {
         "text": "EUR/CAD 5-Minute Chart"
        },
        "xaxis": {
         "rangeslider": {
          "visible": false
         },
         "title": {
          "text": "Time"
         }
        },
        "yaxis": {
         "title": {
          "text": "Price"
         }
        }
       }
      }
     },
     "metadata": {},
     "output_type": "display_data"
    },
    {
     "name": "stdout",
     "output_type": "stream",
     "text": [
      "Trading Signals:\n",
      "💰 5 minutes expiry\n",
      "EUR/CAD;05:09;CALL 🟩\n",
      "🕐 TIME TO 05:09\n",
      "💰 5 minutes expiry\n",
      "EUR/CAD;05:19;PUT 🟥\n",
      "🕐 TIME TO 05:19\n",
      "💰 5 minutes expiry\n",
      "EUR/CAD;05:29;PUT 🟥\n",
      "🕐 TIME TO 05:29\n",
      "💰 5 minutes expiry\n",
      "EUR/CAD;05:39;CALL 🟩\n",
      "🕐 TIME TO 05:39\n",
      "💰 5 minutes expiry\n",
      "EUR/CAD;05:49;PUT 🟥\n",
      "🕐 TIME TO 05:49\n"
     ]
    }
   ],
   "source": [
    "import plotly.graph_objects as go\n",
    "import pandas as pd\n",
    "import yfinance as yf\n",
    "import time\n",
    "from datetime import datetime, timedelta\n",
    "from IPython.display import clear_output, display\n",
    "\n",
    "def get_eurcad_data(interval=\"5m\", period=\"1d\"):\n",
    "    try:\n",
    "        eurcad = yf.Ticker(\"EURCAD=X\")\n",
    "        data = eurcad.history(period=period, interval=interval)\n",
    "        return data\n",
    "    except Exception as e:\n",
    "        print(f\"Error fetching data: {e}\")\n",
    "        return None\n",
    "\n",
    "def calculate_sma(data, window):\n",
    "    return data['Close'].rolling(window=window).mean()\n",
    "\n",
    "def calculate_rsi(data, window=14):\n",
    "    delta = data['Close'].diff()\n",
    "    up = delta.clip(lower=0)\n",
    "    down = -1 * delta.clip(upper=0)\n",
    "    ema_up = up.rolling(window=window).mean()\n",
    "    ema_down = down.rolling(window=window).mean()\n",
    "    rs = ema_up / ema_down\n",
    "    return 100 - (100 / (1 + rs))\n",
    "\n",
    "def calculate_macd(data):\n",
    "    short_ema = data['Close'].ewm(span=12, adjust=False).mean()\n",
    "    long_ema = data['Close'].ewm(span=26, adjust=False).mean()\n",
    "    macd = short_ema - long_ema\n",
    "    signal = macd.ewm(span=9, adjust=False).mean()\n",
    "    return macd, signal\n",
    "\n",
    "def calculate_bollinger_bands(data, window=20):\n",
    "    sma = calculate_sma(data, window)\n",
    "    std = data['Close'].rolling(window=window).std()\n",
    "    upper_band = sma + (std * 2)\n",
    "    lower_band = sma - (std * 2)\n",
    "    return upper_band, lower_band\n",
    "\n",
    "def find_support_resistance(data):\n",
    "    support = data['Low'].rolling(window=10).min()\n",
    "    resistance = data['High'].rolling(window=10).max()\n",
    "    return support, resistance\n",
    "\n",
    "def calculate_pivot_points(data):\n",
    "    pivot = (data['High'] + data['Low'] + data['Close']) / 3\n",
    "    r1 = (pivot * 2) - data['Low']\n",
    "    s1 = (pivot * 2) - data['High']\n",
    "    return pivot, r1, s1\n",
    "\n",
    "def analyze_and_generate_signals(data):\n",
    "    if data is None or data.empty or len(data) < 20:\n",
    "        return None, None\n",
    "    \n",
    "    sma_short = calculate_sma(data, window=9)\n",
    "    sma_long = calculate_sma(data, window=18)\n",
    "    rsi = calculate_rsi(data, window=14)\n",
    "    macd, signal = calculate_macd(data)\n",
    "    upper_band, lower_band = calculate_bollinger_bands(data)\n",
    "    support, resistance = find_support_resistance(data)\n",
    "    pivot, r1, s1 = calculate_pivot_points(data)\n",
    "    \n",
    "    last_price = data['Close'].iloc[-1]\n",
    "    current_time = datetime.utcnow() - timedelta(hours=3)  # UTC -3\n",
    "    trade_time = (current_time + timedelta(minutes=5)).strftime(\"%H:%M\")\n",
    "    \n",
    "    signal_type = None\n",
    "    if sma_short.iloc[-1] > sma_long.iloc[-1] and rsi.iloc[-1] < 70:\n",
    "        signal_type = \"CALL 🟩\"\n",
    "    elif sma_short.iloc[-1] < sma_long.iloc[-1] and rsi.iloc[-1] > 30:\n",
    "        signal_type = \"PUT 🟥\"\n",
    "    \n",
    "    if macd.iloc[-1] > signal.iloc[-1] and macd.iloc[-2] <= signal.iloc[-2]:\n",
    "        signal_type = \"CALL 🟩\"\n",
    "    elif macd.iloc[-1] < signal.iloc[-1] and macd.iloc[-2] >= signal.iloc[-2]:\n",
    "        signal_type = \"PUT 🟥\"\n",
    "    \n",
    "    if last_price < lower_band.iloc[-1]:\n",
    "        signal_type = \"CALL 🟩\"\n",
    "    elif last_price > upper_band.iloc[-1]:\n",
    "        signal_type = \"PUT 🟥\"\n",
    "    \n",
    "    if last_price <= support.iloc[-1]:\n",
    "        signal_type = \"CALL 🟩\"\n",
    "    elif last_price >= resistance.iloc[-1]:\n",
    "        signal_type = \"PUT 🟥\"\n",
    "    \n",
    "    if last_price < s1.iloc[-1]:\n",
    "        signal_type = \"CALL 🟩\"\n",
    "    elif last_price > r1.iloc[-1]:\n",
    "        signal_type = \"PUT 🟥\"\n",
    "    \n",
    "    if signal_type:\n",
    "        signal_text = f\"💰 5 minutes expiry\\nEUR/CAD;{trade_time};{signal_type}\\n🕐 TIME TO {trade_time}\"  \n",
    "        return signal_text, trade_time\n",
    "    return None, None\n",
    "\n",
    "def create_candlestick_chart(data, title):\n",
    "    if data is None or data.empty:\n",
    "        print(f\"No data to display for {title}.\")\n",
    "        return None\n",
    "    \n",
    "    fig = go.Figure(data=[go.Candlestick(x=data.index,\n",
    "                                         open=data['Open'],\n",
    "                                         high=data['High'],\n",
    "                                         low=data['Low'],\n",
    "                                         close=data['Close'])])\n",
    "    fig.update_layout(title=title, xaxis_title='Time', yaxis_title='Price', xaxis_rangeslider_visible=False)\n",
    "    return fig\n",
    "\n",
    "def update_charts_and_signals():\n",
    "    signals_history = []\n",
    "    try:\n",
    "        while True:\n",
    "            data_5min = get_eurcad_data(interval=\"5m\")\n",
    "            fig_5min = create_candlestick_chart(data_5min, \"EUR/CAD 5-Minute Chart\")\n",
    "            \n",
    "            if fig_5min is not None:\n",
    "                signal_text, trade_time = analyze_and_generate_signals(data_5min)\n",
    "                \n",
    "                if signal_text:\n",
    "                    signals_history.append(signal_text)\n",
    "                    signals_history = signals_history[-5:]\n",
    "                    clear_output(wait=True)\n",
    "                    display(fig_5min)\n",
    "                    print(\"Trading Signals:\")\n",
    "                    for signal in signals_history:\n",
    "                        print(signal)\n",
    "                else:\n",
    "                    clear_output(wait=True)\n",
    "                    display(fig_5min)\n",
    "                    print(\"No New Trading Signals\")\n",
    "            \n",
    "            time.sleep(600)  # 10-minute interval\n",
    "    except KeyboardInterrupt:\n",
    "        print(\"Chart update stopped.\")\n",
    "\n",
    "if __name__ == \"__main__\":\n",
    "    update_charts_and_signals()\n"
   ]
  },
  {
   "cell_type": "code",
   "execution_count": null,
   "metadata": {},
   "outputs": [],
   "source": []
  },
  {
   "cell_type": "code",
   "execution_count": null,
   "metadata": {},
   "outputs": [],
   "source": []
  }
 ],
 "metadata": {
  "kernelspec": {
   "display_name": "Python 3",
   "language": "python",
   "name": "python3"
  },
  "language_info": {
   "codemirror_mode": {
    "name": "ipython",
    "version": 3
   },
   "file_extension": ".py",
   "mimetype": "text/x-python",
   "name": "python",
   "nbconvert_exporter": "python",
   "pygments_lexer": "ipython3",
   "version": "3.12.9"
  }
 },
 "nbformat": 4,
 "nbformat_minor": 2
}
