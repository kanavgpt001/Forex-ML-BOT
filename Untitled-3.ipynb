{
 "cells": [
  {
   "cell_type": "code",
   "execution_count": 2,
   "metadata": {},
   "outputs": [
    {
     "ename": "SyntaxError",
     "evalue": "invalid syntax (2802602300.py, line 1)",
     "output_type": "error",
     "traceback": [
      "  \u001b[36mCell\u001b[39m\u001b[36m \u001b[39m\u001b[32mIn[2]\u001b[39m\u001b[32m, line 1\u001b[39m\n\u001b[31m    \u001b[39m\u001b[31mpip install PyQt6 PyQt6-Charts\u001b[39m\n        ^\n\u001b[31mSyntaxError\u001b[39m\u001b[31m:\u001b[39m invalid syntax\n"
     ]
    }
   ],
   "source": [
    "pip install PyQt6 PyQt6-Charts\n",
    "import sys\n",
    "import pandas as pd\n",
    "import numpy as np\n",
    "import requests\n",
    "import json\n",
    "from PyQt6.QtWidgets import QApplication, QMainWindow, QVBoxLayout, QWidget\n",
    "from PyQt6.QtChart import QChart, QChartView, QLineSeries, QCandlestickSeries, QCandlestickSet\n",
    "from PyQt6.QtCore import Qt, QTimer\n",
    "import ta\n",
    "\n",
    "class ForexTradingApp(QMainWindow):\n",
    "    def __init__(self):\n",
    "        super().__init__()\n",
    "        self.setWindowTitle(\"Forex Trading Software\")\n",
    "        self.setGeometry(100, 100, 1200, 800)\n",
    "        self.initUI()\n",
    "        self.update_chart()\n",
    "\n",
    "    def initUI(self):\n",
    "        self.central_widget = QWidget()\n",
    "        self.setCentralWidget(self.central_widget)\n",
    "        layout = QVBoxLayout()\n",
    "        self.chart = QChart()\n",
    "        self.chart_view = QChartView(self.chart)\n",
    "        layout.addWidget(self.chart_view)\n",
    "        self.central_widget.setLayout(layout)\n",
    "\n",
    "        self.timer = QTimer()\n",
    "        self.timer.timeout.connect(self.update_chart)\n",
    "        self.timer.start(300000)  # Update every 5 minutes\n",
    "\n",
    "    def fetch_data(self):\n",
    "        url = \"https://www.alphavantage.co/query\"\n",
    "        params = {\n",
    "            \"function\": \"TIME_SERIES_INTRADAY\",\n",
    "            \"symbol\": \"EURUSD\",\n",
    "            \"interval\": \"5min\",\n",
    "            \"apikey\": \"YOUR_API_KEY\"\n",
    "        }\n",
    "        response = requests.get(url, params=params)\n",
    "        data = response.json()\n",
    "        df = pd.DataFrame.from_dict(data['Time Series (5min)'], orient='index')\n",
    "        df = df.astype(float)\n",
    "        df.columns = ['Open', 'High', 'Low', 'Close', 'Volume']\n",
    "        df.index = pd.to_datetime(df.index)\n",
    "        df = df.iloc[::-1]\n",
    "        return df\n",
    "\n",
    "    def calculate_indicators(self, df):\n",
    "        df['MACD'] = ta.trend.macd(df['Close'])\n",
    "        df['Signal'] = ta.trend.macd_signal(df['Close'])\n",
    "        df['Upper'], df['Middle'], df['Lower'] = ta.volatility.bollinger_hband(df['Close']), ta.volatility.bollinger_mavg(df['Close']), ta.volatility.bollinger_lband(df['Close'])\n",
    "        return df\n",
    "\n",
    "    def update_chart(self):\n",
    "        df = self.fetch_data()\n",
    "        df = self.calculate_indicators(df)\n",
    "        self.chart.removeAllSeries()\n",
    "\n",
    "        candlestick_series = QCandlestickSeries()\n",
    "        candlestick_series.setIncreasingColor(Qt.GlobalColor.green)\n",
    "        candlestick_series.setDecreasingColor(Qt.GlobalColor.red)\n",
    "        for index, row in df.iterrows():\n",
    "            candlestick = QCandlestickSet(row['Open'], row['High'], row['Low'], row['Close'], index.timestamp())\n",
    "            candlestick_series.append(candlestick)\n",
    "        self.chart.addSeries(candlestick_series)\n",
    "\n",
    "        macd_series = QLineSeries()\n",
    "        signal_series = QLineSeries()\n",
    "        for i, row in enumerate(df.itertuples()):\n",
    "            macd_series.append(i, row.MACD)\n",
    "            signal_series.append(i, row.Signal)\n",
    "        self.chart.addSeries(macd_series)\n",
    "        self.chart.addSeries(signal_series)\n",
    "        self.chart.createDefaultAxes()\n",
    "\n",
    "if __name__ == \"__main__\":\n",
    "    app = QApplication(sys.argv)\n",
    "    window = ForexTradingApp()\n",
    "    window.show()\n",
    "    sys.exit(app.exec())\n"
   ]
  },
  {
   "cell_type": "code",
   "execution_count": 3,
   "metadata": {},
   "outputs": [
    {
     "name": "stdout",
     "output_type": "stream",
     "text": [
      "Requirement already satisfied: PyQt6 in c:\\users\\anshal-kanav\\appdata\\local\\programs\\python\\python313\\lib\\site-packages (6.8.1)\n",
      "Requirement already satisfied: PyQt6-Charts in c:\\users\\anshal-kanav\\appdata\\local\\programs\\python\\python313\\lib\\site-packages (6.8.0)\n",
      "Requirement already satisfied: PyQt6-sip<14,>=13.8 in c:\\users\\anshal-kanav\\appdata\\local\\programs\\python\\python313\\lib\\site-packages (from PyQt6) (13.10.0)\n",
      "Requirement already satisfied: PyQt6-Qt6<6.9.0,>=6.8.0 in c:\\users\\anshal-kanav\\appdata\\local\\programs\\python\\python313\\lib\\site-packages (from PyQt6) (6.8.2)\n",
      "Requirement already satisfied: PyQt6-Charts-Qt6<6.9.0,>=6.8.0 in c:\\users\\anshal-kanav\\appdata\\local\\programs\\python\\python313\\lib\\site-packages (from PyQt6-Charts) (6.8.2)\n",
      "Note: you may need to restart the kernel to use updated packages.\n"
     ]
    },
    {
     "name": "stderr",
     "output_type": "stream",
     "text": [
      "\n",
      "[notice] A new release of pip is available: 24.3.1 -> 25.0.1\n",
      "[notice] To update, run: python.exe -m pip install --upgrade pip\n"
     ]
    }
   ],
   "source": [
    "pip install PyQt6 PyQt6-Charts"
   ]
  },
  {
   "cell_type": "code",
   "execution_count": null,
   "metadata": {},
   "outputs": [],
   "source": []
  }
 ],
 "metadata": {
  "kernelspec": {
   "display_name": "Python 3",
   "language": "python",
   "name": "python3"
  },
  "language_info": {
   "codemirror_mode": {
    "name": "ipython",
    "version": 3
   },
   "file_extension": ".py",
   "mimetype": "text/x-python",
   "name": "python",
   "nbconvert_exporter": "python",
   "pygments_lexer": "ipython3",
   "version": "3.13.2"
  }
 },
 "nbformat": 4,
 "nbformat_minor": 2
}
