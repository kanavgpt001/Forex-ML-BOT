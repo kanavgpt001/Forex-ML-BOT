{
 "cells": [
  {
   "cell_type": "code",
   "execution_count": null,
   "metadata": {},
   "outputs": [
    {
     "data": {
      "application/vnd.plotly.v1+json": {
       "config": {
        "plotlyServerURL": "https://plot.ly"
       },
       "data": [
        {
         "close": {
          "bdata": "AAAAYIsy+T8AAACgUjP5PwAAAOBlMfk/AAAAoM4x+T8AAAAALTL5PwAAAKANMvk/AAAAIAMy+T8AAAAAgTL5PwAAAMCPMfk/AAAAAP0w+T8AAABgMTH5PwAAAKDwLvk/AAAAQBYw+T8AAABAFjD5PwAAAEABMPk/AAAAoF8w+T8AAAAA/TD5PwAAAABsMvk/AAAA4NQy+T8AAACgZzP5PwAAAKA9M/k/AAAAwLkx+T8AAACAyDD5PwAAAKCeMPk/AAAAIAMy+T8AAAAALTL5PwAAAAASMfk/AAAAYDEx+T8AAACgnjD5PwAAACB/MPk/AAAAgDcy+T8AAAAgGDL5PwAAAECvMfk/AAAAIAMy+T8AAAAg7jH5PwAAAMCkMfk/AAAAIJQw+T8AAAAglDD5PwAAAADTMPk/AAAAoF8w+T8AAADgzC/5PwAAAEABMPk/AAAAgJgv+T8AAACAgy/5PwAAAODML/k/AAAAQCsw+T8AAACgdDD5PwAAAIAHMfk/AAAAYBwx+T8AAACA3TD5PwAAAAD9MPk/AAAAoLMw+T8AAADA/jL5PwAAAIBMMvk/AAAAQK8x+T8AAABgtTL5PwAAAOC/Mvk/AAAA4L8y+T8AAABACTP5PwAAAKANMvk/AAAAwHox+T8AAACABzH5PwAAAKBfMPk/AAAAQFUw+T8AAADgty/5PwAAAOCHLvk/AAAA4F0u+T8AAADAxi75PwAAAGCtL/k/AAAAQEAw+T8AAAAA0zD5PwAAAECvMfk/AAAAIEgz+T8AAACgwTT5PwAAAACcM/k/AAAAYCQ0+T8AAABAjTT5PwAAAICENvk/AAAAwPE1+T8AAABgkzX5PwAAAIBUNfk/AAAAgNAz+T8AAABg+jP5PwAAAMCXNPk/AAAAQI00+T8AAAAgOzb5PwAAAAB1PPk/AAAAAIo8+T8AAAAgpT35PwAAACDAPvk/AAAAYDo7+T8AAABAXjr5PwAAAIAdOPk/AAAAIIcz+T8AAACgZzP5PwAAAMBYNPk/AAAAYFw4+T8AAACA8zf5PwAAAADpN/k/",
          "dtype": "f8"
         },
         "high": {
          "bdata": "AAAAoOs0+T8AAADgQzT5PwAAACBdM/k/AAAAgHYy+T8AAADglTL5PwAAAIB2Mvk/AAAAwBMz+T8AAABg3zL5PwAAAMD+Mvk/AAAAINkx+T8AAADgOzH5PwAAAOAmMfk/AAAAAP0w+T8AAACA8jD5PwAAAAC+MPk/AAAAgPIw+T8AAABgMTH5PwAAAEAJM/k/AAAAwBMz+T8AAACApjP5PwAAAIDlM/k/AAAAIEgz+T8AAACgzjH5PwAAAAASMfk/AAAAYN8y+T8AAABgoDL5PwAAAIB2Mvk/AAAAAC0y+T8AAADgUDH5PwAAAADoMPk/AAAA4JUy+T8AAABgizL5PwAAAMATM/k/AAAAAIEy+T8AAAAAgTL5PwAAAACBMvk/AAAAIBgy+T8AAACA8jD5PwAAAOA7Mfk/AAAAQIUx+T8AAACA3TD5PwAAAEArMPk/AAAAQCsw+T8AAADAIDD5PwAAAKBfMPk/AAAAAOgw+T8AAACA8jD5PwAAAOA7Mfk/AAAAYFsx+T8AAADgOzH5PwAAAMCPMfk/AAAA4FAx+T8AAABACTP5PwAAAKBnM/k/AAAAYIsy+T8AAABA9DL5PwAAAKB8M/k/AAAAwCgz+T8AAAAgXTP5PwAAAKBnM/k/AAAAgGEy+T8AAACgzjH5PwAAAIAHMfk/AAAAgPIw+T8AAACA8jD5PwAAAMAgMPk/AAAAoEQv+T8AAADgzC/5PwAAAMALMPk/AAAAgPIw+T8AAABgWzH5PwAAAKAiMvk/AAAAIHIz+T8AAADgczX5PwAAAIBUNfk/AAAAQI00+T8AAACAFTX5PwAAAICuNvk/AAAAoLQ3+T8AAAAgZTb5PwAAAKBFNvk/AAAAYL01+T8AAAAg4TT5PwAAAABfNfk/AAAAIFA2+T8AAACAhDb5PwAAAEASPfk/AAAAYL48+T8AAACA7j35PwAAAGCcP/k/AAAAIP8++T8AAABAozv5PwAAAGBkO/k/AAAAgDI4+T8AAACg1jT5PwAAAABKNfk/AAAAYFw4+T8AAADAFDr5PwAAAIAdOPk/",
          "dtype": "f8"
         },
         "low": {
          "bdata": "AAAA4GUx+T8AAACgXzD5PwAAAAD9MPk/AAAAQAEw+T8AAACgszD5PwAAAEAWMPk/AAAAoLMw+T8AAABg7C/5PwAAAKCzMPk/AAAAICUv+T8AAABgUy75PwAAAKCBLfk/AAAAILYt+T8AAABgaC75PwAAAMCcLvk/AAAAwMYu+T8AAACAFC75PwAAAGCtL/k/AAAAgN0w+T8AAADAjzH5PwAAAOBlMfk/AAAAoIkw+T8AAACAmC/5PwAAAOBdLvk/AAAAwEow+T8AAAAgajD5PwAAAGCtL/k/AAAAwMYu+T8AAADA2y75PwAAAECnLvk/AAAA4PYv+T8AAACgszD5PwAAAAD9MPk/AAAAQFUw+T8AAABAFjD5PwAAAMA1MPk/AAAA4Lcv+T8AAABgPi75PwAAACAQL/k/AAAAAE8v+T8AAABA5i75PwAAAKCBLfk/AAAAgOot+T8AAAAgoS35PwAAAECSLvk/AAAA4Egu+T8AAADA2y75PwAAACAlL/k/AAAAgFkv+T8AAACAbi/5PwAAAKAvL/k/AAAAICUv+T8AAADgty/5PwAAAOBlMfk/AAAAoF8w+T8AAABAFjD5PwAAAOBQMfk/AAAAoLMw+T8AAADApDH5PwAAAOAmMfk/AAAAgJgv+T8AAACAbi/5PwAAAIApLvk/AAAAwLEu+T8AAADAnC75PwAAAEA4Lfk/AAAAgHss+T8AAAAAsCz5PwAAAEB3Lfk/AAAAYFMu+T8AAABgfS75PwAAAACOL/k/AAAAYOwv+T8AAAAg7jH5PwAAACByM/k/AAAA4JUy+T8AAAAAgTL5PwAAAMATM/k/AAAA4HM1+T8AAACgkTP5PwAAAGAPNPk/AAAAAEIy+T8AAACATDL5PwAAAIA3Mvk/AAAAYIsy+T8AAADglTL5PwAAAMDHNfk/AAAAQB86+T8AAACA0Tr5PwAAAKArPPk/AAAAAPE6+T8AAABAxTj5PwAAACCVN/k/AAAAAFcy+T8AAABgHDH5PwAAAOAmMfk/AAAAoOMx+T8AAAAApDb5PwAAAABfNfk/",
          "dtype": "f8"
         },
         "open": {
          "bdata": "AAAAQKI0+T8AAAAAgTL5PwAAAMD+Mvk/AAAAQHAx+T8AAAAg7jH5PwAAAIA3Mvk/AAAAoCIy+T8AAAAg7jH5PwAAAABCMvk/AAAAwLkx+T8AAAAA0zD5PwAAAADTMPk/AAAAQNEu+T8AAADAIDD5PwAAAEArMPk/AAAAQCsw+T8AAACgdDD5PwAAAAD9MPk/AAAAgHYy+T8AAABg3zL5PwAAACCHM/k/AAAAwP4y+T8AAADAjzH5PwAAAIDIMPk/AAAAgMgw+T8AAACgzjH5PwAAAKANMvk/AAAA4CYx+T8AAADgJjH5PwAAACBqMPk/AAAAIJQw+T8AAAAAQjL5PwAAAKDjMfk/AAAAoM4x+T8AAABAxDH5PwAAAEDEMfk/AAAAQK8x+T8AAACgdDD5PwAAAKCeMPk/AAAAgPIw+T8AAADANTD5PwAAAIBZL/k/AAAAYMIv+T8AAAAAZC/5PwAAAOC3L/k/AAAA4Mwv+T8AAADANTD5PwAAAKB0MPk/AAAAgPIw+T8AAAAAEjH5PwAAACCUMPk/AAAAgAcx+T8AAACgdDD5PwAAAMDpMvk/AAAAAFcy+T8AAADApDH5PwAAAODUMvk/AAAAAIEy+T8AAADA6TL5PwAAAOC/Mvk/AAAAoCIy+T8AAAAAEjH5PwAAAIDIMPk/AAAAwEow+T8AAADASjD5PwAAAIBuL/k/AAAA4HIu+T8AAADgMy75PwAAAGB9Lvk/AAAA4Mwv+T8AAADASjD5PwAAAOAmMfk/AAAAwI8x+T8AAABACTP5PwAAAKDrNPk/AAAAAPAz+T8AAAAA2zP5PwAAAECNNPk/AAAAoEU2+T8AAAAgOzb5PwAAAOCdNfk/AAAA4Ig1+T8AAAAgcjP5PwAAAADwM/k/AAAAQI00+T8AAADAlzT5PwAAACAmNvk/AAAAgH88+T8AAAAASzz5PwAAAMBGPfk/AAAAwHY++T8AAAAABjv5PwAAAKCSOvk/AAAAACg4+T8AAACgfDP5PwAAAKCRM/k/AAAAQKI0+T8AAACAHTj5PwAAAIAdOPk/",
          "dtype": "f8"
         },
         "type": "candlestick",
         "x": [
          "2025-03-12T00:00:00+00:00",
          "2025-03-12T00:05:00+00:00",
          "2025-03-12T00:10:00+00:00",
          "2025-03-12T00:15:00+00:00",
          "2025-03-12T00:20:00+00:00",
          "2025-03-12T00:25:00+00:00",
          "2025-03-12T00:30:00+00:00",
          "2025-03-12T00:35:00+00:00",
          "2025-03-12T00:40:00+00:00",
          "2025-03-12T00:45:00+00:00",
          "2025-03-12T00:50:00+00:00",
          "2025-03-12T00:55:00+00:00",
          "2025-03-12T01:00:00+00:00",
          "2025-03-12T01:05:00+00:00",
          "2025-03-12T01:10:00+00:00",
          "2025-03-12T01:15:00+00:00",
          "2025-03-12T01:20:00+00:00",
          "2025-03-12T01:25:00+00:00",
          "2025-03-12T01:30:00+00:00",
          "2025-03-12T01:35:00+00:00",
          "2025-03-12T01:40:00+00:00",
          "2025-03-12T01:45:00+00:00",
          "2025-03-12T01:50:00+00:00",
          "2025-03-12T01:55:00+00:00",
          "2025-03-12T02:00:00+00:00",
          "2025-03-12T02:05:00+00:00",
          "2025-03-12T02:10:00+00:00",
          "2025-03-12T02:15:00+00:00",
          "2025-03-12T02:20:00+00:00",
          "2025-03-12T02:25:00+00:00",
          "2025-03-12T02:30:00+00:00",
          "2025-03-12T02:35:00+00:00",
          "2025-03-12T02:40:00+00:00",
          "2025-03-12T02:45:00+00:00",
          "2025-03-12T02:50:00+00:00",
          "2025-03-12T02:55:00+00:00",
          "2025-03-12T03:00:00+00:00",
          "2025-03-12T03:05:00+00:00",
          "2025-03-12T03:10:00+00:00",
          "2025-03-12T03:15:00+00:00",
          "2025-03-12T03:20:00+00:00",
          "2025-03-12T03:25:00+00:00",
          "2025-03-12T03:30:00+00:00",
          "2025-03-12T03:35:00+00:00",
          "2025-03-12T03:40:00+00:00",
          "2025-03-12T03:45:00+00:00",
          "2025-03-12T03:50:00+00:00",
          "2025-03-12T03:55:00+00:00",
          "2025-03-12T04:00:00+00:00",
          "2025-03-12T04:05:00+00:00",
          "2025-03-12T04:10:00+00:00",
          "2025-03-12T04:15:00+00:00",
          "2025-03-12T04:20:00+00:00",
          "2025-03-12T04:25:00+00:00",
          "2025-03-12T04:30:00+00:00",
          "2025-03-12T04:35:00+00:00",
          "2025-03-12T04:40:00+00:00",
          "2025-03-12T04:45:00+00:00",
          "2025-03-12T04:50:00+00:00",
          "2025-03-12T04:55:00+00:00",
          "2025-03-12T05:00:00+00:00",
          "2025-03-12T05:05:00+00:00",
          "2025-03-12T05:10:00+00:00",
          "2025-03-12T05:15:00+00:00",
          "2025-03-12T05:20:00+00:00",
          "2025-03-12T05:25:00+00:00",
          "2025-03-12T05:30:00+00:00",
          "2025-03-12T05:35:00+00:00",
          "2025-03-12T05:40:00+00:00",
          "2025-03-12T05:45:00+00:00",
          "2025-03-12T05:50:00+00:00",
          "2025-03-12T05:55:00+00:00",
          "2025-03-12T06:00:00+00:00",
          "2025-03-12T06:05:00+00:00",
          "2025-03-12T06:10:00+00:00",
          "2025-03-12T06:15:00+00:00",
          "2025-03-12T06:20:00+00:00",
          "2025-03-12T06:25:00+00:00",
          "2025-03-12T06:30:00+00:00",
          "2025-03-12T06:35:00+00:00",
          "2025-03-12T06:40:00+00:00",
          "2025-03-12T06:45:00+00:00",
          "2025-03-12T06:50:00+00:00",
          "2025-03-12T06:55:00+00:00",
          "2025-03-12T07:00:00+00:00",
          "2025-03-12T07:05:00+00:00",
          "2025-03-12T07:10:00+00:00",
          "2025-03-12T07:15:00+00:00",
          "2025-03-12T07:20:00+00:00",
          "2025-03-12T07:25:00+00:00",
          "2025-03-12T07:30:00+00:00",
          "2025-03-12T07:35:00+00:00",
          "2025-03-12T07:40:00+00:00",
          "2025-03-12T07:45:00+00:00",
          "2025-03-12T07:50:00+00:00",
          "2025-03-12T07:55:00+00:00",
          "2025-03-12T08:00:00+00:00",
          "2025-03-12T08:05:00+00:00",
          "2025-03-12T08:10:00+00:00"
         ]
        }
       ],
       "layout": {
        "template": {
         "data": {
          "bar": [
           {
            "error_x": {
             "color": "#2a3f5f"
            },
            "error_y": {
             "color": "#2a3f5f"
            },
            "marker": {
             "line": {
              "color": "#E5ECF6",
              "width": 0.5
             },
             "pattern": {
              "fillmode": "overlay",
              "size": 10,
              "solidity": 0.2
             }
            },
            "type": "bar"
           }
          ],
          "barpolar": [
           {
            "marker": {
             "line": {
              "color": "#E5ECF6",
              "width": 0.5
             },
             "pattern": {
              "fillmode": "overlay",
              "size": 10,
              "solidity": 0.2
             }
            },
            "type": "barpolar"
           }
          ],
          "carpet": [
           {
            "aaxis": {
             "endlinecolor": "#2a3f5f",
             "gridcolor": "white",
             "linecolor": "white",
             "minorgridcolor": "white",
             "startlinecolor": "#2a3f5f"
            },
            "baxis": {
             "endlinecolor": "#2a3f5f",
             "gridcolor": "white",
             "linecolor": "white",
             "minorgridcolor": "white",
             "startlinecolor": "#2a3f5f"
            },
            "type": "carpet"
           }
          ],
          "choropleth": [
           {
            "colorbar": {
             "outlinewidth": 0,
             "ticks": ""
            },
            "type": "choropleth"
           }
          ],
          "contour": [
           {
            "colorbar": {
             "outlinewidth": 0,
             "ticks": ""
            },
            "colorscale": [
             [
              0,
              "#0d0887"
             ],
             [
              0.1111111111111111,
              "#46039f"
             ],
             [
              0.2222222222222222,
              "#7201a8"
             ],
             [
              0.3333333333333333,
              "#9c179e"
             ],
             [
              0.4444444444444444,
              "#bd3786"
             ],
             [
              0.5555555555555556,
              "#d8576b"
             ],
             [
              0.6666666666666666,
              "#ed7953"
             ],
             [
              0.7777777777777778,
              "#fb9f3a"
             ],
             [
              0.8888888888888888,
              "#fdca26"
             ],
             [
              1,
              "#f0f921"
             ]
            ],
            "type": "contour"
           }
          ],
          "contourcarpet": [
           {
            "colorbar": {
             "outlinewidth": 0,
             "ticks": ""
            },
            "type": "contourcarpet"
           }
          ],
          "heatmap": [
           {
            "colorbar": {
             "outlinewidth": 0,
             "ticks": ""
            },
            "colorscale": [
             [
              0,
              "#0d0887"
             ],
             [
              0.1111111111111111,
              "#46039f"
             ],
             [
              0.2222222222222222,
              "#7201a8"
             ],
             [
              0.3333333333333333,
              "#9c179e"
             ],
             [
              0.4444444444444444,
              "#bd3786"
             ],
             [
              0.5555555555555556,
              "#d8576b"
             ],
             [
              0.6666666666666666,
              "#ed7953"
             ],
             [
              0.7777777777777778,
              "#fb9f3a"
             ],
             [
              0.8888888888888888,
              "#fdca26"
             ],
             [
              1,
              "#f0f921"
             ]
            ],
            "type": "heatmap"
           }
          ],
          "histogram": [
           {
            "marker": {
             "pattern": {
              "fillmode": "overlay",
              "size": 10,
              "solidity": 0.2
             }
            },
            "type": "histogram"
           }
          ],
          "histogram2d": [
           {
            "colorbar": {
             "outlinewidth": 0,
             "ticks": ""
            },
            "colorscale": [
             [
              0,
              "#0d0887"
             ],
             [
              0.1111111111111111,
              "#46039f"
             ],
             [
              0.2222222222222222,
              "#7201a8"
             ],
             [
              0.3333333333333333,
              "#9c179e"
             ],
             [
              0.4444444444444444,
              "#bd3786"
             ],
             [
              0.5555555555555556,
              "#d8576b"
             ],
             [
              0.6666666666666666,
              "#ed7953"
             ],
             [
              0.7777777777777778,
              "#fb9f3a"
             ],
             [
              0.8888888888888888,
              "#fdca26"
             ],
             [
              1,
              "#f0f921"
             ]
            ],
            "type": "histogram2d"
           }
          ],
          "histogram2dcontour": [
           {
            "colorbar": {
             "outlinewidth": 0,
             "ticks": ""
            },
            "colorscale": [
             [
              0,
              "#0d0887"
             ],
             [
              0.1111111111111111,
              "#46039f"
             ],
             [
              0.2222222222222222,
              "#7201a8"
             ],
             [
              0.3333333333333333,
              "#9c179e"
             ],
             [
              0.4444444444444444,
              "#bd3786"
             ],
             [
              0.5555555555555556,
              "#d8576b"
             ],
             [
              0.6666666666666666,
              "#ed7953"
             ],
             [
              0.7777777777777778,
              "#fb9f3a"
             ],
             [
              0.8888888888888888,
              "#fdca26"
             ],
             [
              1,
              "#f0f921"
             ]
            ],
            "type": "histogram2dcontour"
           }
          ],
          "mesh3d": [
           {
            "colorbar": {
             "outlinewidth": 0,
             "ticks": ""
            },
            "type": "mesh3d"
           }
          ],
          "parcoords": [
           {
            "line": {
             "colorbar": {
              "outlinewidth": 0,
              "ticks": ""
             }
            },
            "type": "parcoords"
           }
          ],
          "pie": [
           {
            "automargin": true,
            "type": "pie"
           }
          ],
          "scatter": [
           {
            "fillpattern": {
             "fillmode": "overlay",
             "size": 10,
             "solidity": 0.2
            },
            "type": "scatter"
           }
          ],
          "scatter3d": [
           {
            "line": {
             "colorbar": {
              "outlinewidth": 0,
              "ticks": ""
             }
            },
            "marker": {
             "colorbar": {
              "outlinewidth": 0,
              "ticks": ""
             }
            },
            "type": "scatter3d"
           }
          ],
          "scattercarpet": [
           {
            "marker": {
             "colorbar": {
              "outlinewidth": 0,
              "ticks": ""
             }
            },
            "type": "scattercarpet"
           }
          ],
          "scattergeo": [
           {
            "marker": {
             "colorbar": {
              "outlinewidth": 0,
              "ticks": ""
             }
            },
            "type": "scattergeo"
           }
          ],
          "scattergl": [
           {
            "marker": {
             "colorbar": {
              "outlinewidth": 0,
              "ticks": ""
             }
            },
            "type": "scattergl"
           }
          ],
          "scattermap": [
           {
            "marker": {
             "colorbar": {
              "outlinewidth": 0,
              "ticks": ""
             }
            },
            "type": "scattermap"
           }
          ],
          "scattermapbox": [
           {
            "marker": {
             "colorbar": {
              "outlinewidth": 0,
              "ticks": ""
             }
            },
            "type": "scattermapbox"
           }
          ],
          "scatterpolar": [
           {
            "marker": {
             "colorbar": {
              "outlinewidth": 0,
              "ticks": ""
             }
            },
            "type": "scatterpolar"
           }
          ],
          "scatterpolargl": [
           {
            "marker": {
             "colorbar": {
              "outlinewidth": 0,
              "ticks": ""
             }
            },
            "type": "scatterpolargl"
           }
          ],
          "scatterternary": [
           {
            "marker": {
             "colorbar": {
              "outlinewidth": 0,
              "ticks": ""
             }
            },
            "type": "scatterternary"
           }
          ],
          "surface": [
           {
            "colorbar": {
             "outlinewidth": 0,
             "ticks": ""
            },
            "colorscale": [
             [
              0,
              "#0d0887"
             ],
             [
              0.1111111111111111,
              "#46039f"
             ],
             [
              0.2222222222222222,
              "#7201a8"
             ],
             [
              0.3333333333333333,
              "#9c179e"
             ],
             [
              0.4444444444444444,
              "#bd3786"
             ],
             [
              0.5555555555555556,
              "#d8576b"
             ],
             [
              0.6666666666666666,
              "#ed7953"
             ],
             [
              0.7777777777777778,
              "#fb9f3a"
             ],
             [
              0.8888888888888888,
              "#fdca26"
             ],
             [
              1,
              "#f0f921"
             ]
            ],
            "type": "surface"
           }
          ],
          "table": [
           {
            "cells": {
             "fill": {
              "color": "#EBF0F8"
             },
             "line": {
              "color": "white"
             }
            },
            "header": {
             "fill": {
              "color": "#C8D4E3"
             },
             "line": {
              "color": "white"
             }
            },
            "type": "table"
           }
          ]
         },
         "layout": {
          "annotationdefaults": {
           "arrowcolor": "#2a3f5f",
           "arrowhead": 0,
           "arrowwidth": 1
          },
          "autotypenumbers": "strict",
          "coloraxis": {
           "colorbar": {
            "outlinewidth": 0,
            "ticks": ""
           }
          },
          "colorscale": {
           "diverging": [
            [
             0,
             "#8e0152"
            ],
            [
             0.1,
             "#c51b7d"
            ],
            [
             0.2,
             "#de77ae"
            ],
            [
             0.3,
             "#f1b6da"
            ],
            [
             0.4,
             "#fde0ef"
            ],
            [
             0.5,
             "#f7f7f7"
            ],
            [
             0.6,
             "#e6f5d0"
            ],
            [
             0.7,
             "#b8e186"
            ],
            [
             0.8,
             "#7fbc41"
            ],
            [
             0.9,
             "#4d9221"
            ],
            [
             1,
             "#276419"
            ]
           ],
           "sequential": [
            [
             0,
             "#0d0887"
            ],
            [
             0.1111111111111111,
             "#46039f"
            ],
            [
             0.2222222222222222,
             "#7201a8"
            ],
            [
             0.3333333333333333,
             "#9c179e"
            ],
            [
             0.4444444444444444,
             "#bd3786"
            ],
            [
             0.5555555555555556,
             "#d8576b"
            ],
            [
             0.6666666666666666,
             "#ed7953"
            ],
            [
             0.7777777777777778,
             "#fb9f3a"
            ],
            [
             0.8888888888888888,
             "#fdca26"
            ],
            [
             1,
             "#f0f921"
            ]
           ],
           "sequentialminus": [
            [
             0,
             "#0d0887"
            ],
            [
             0.1111111111111111,
             "#46039f"
            ],
            [
             0.2222222222222222,
             "#7201a8"
            ],
            [
             0.3333333333333333,
             "#9c179e"
            ],
            [
             0.4444444444444444,
             "#bd3786"
            ],
            [
             0.5555555555555556,
             "#d8576b"
            ],
            [
             0.6666666666666666,
             "#ed7953"
            ],
            [
             0.7777777777777778,
             "#fb9f3a"
            ],
            [
             0.8888888888888888,
             "#fdca26"
            ],
            [
             1,
             "#f0f921"
            ]
           ]
          },
          "colorway": [
           "#636efa",
           "#EF553B",
           "#00cc96",
           "#ab63fa",
           "#FFA15A",
           "#19d3f3",
           "#FF6692",
           "#B6E880",
           "#FF97FF",
           "#FECB52"
          ],
          "font": {
           "color": "#2a3f5f"
          },
          "geo": {
           "bgcolor": "white",
           "lakecolor": "white",
           "landcolor": "#E5ECF6",
           "showlakes": true,
           "showland": true,
           "subunitcolor": "white"
          },
          "hoverlabel": {
           "align": "left"
          },
          "hovermode": "closest",
          "mapbox": {
           "style": "light"
          },
          "paper_bgcolor": "white",
          "plot_bgcolor": "#E5ECF6",
          "polar": {
           "angularaxis": {
            "gridcolor": "white",
            "linecolor": "white",
            "ticks": ""
           },
           "bgcolor": "#E5ECF6",
           "radialaxis": {
            "gridcolor": "white",
            "linecolor": "white",
            "ticks": ""
           }
          },
          "scene": {
           "xaxis": {
            "backgroundcolor": "#E5ECF6",
            "gridcolor": "white",
            "gridwidth": 2,
            "linecolor": "white",
            "showbackground": true,
            "ticks": "",
            "zerolinecolor": "white"
           },
           "yaxis": {
            "backgroundcolor": "#E5ECF6",
            "gridcolor": "white",
            "gridwidth": 2,
            "linecolor": "white",
            "showbackground": true,
            "ticks": "",
            "zerolinecolor": "white"
           },
           "zaxis": {
            "backgroundcolor": "#E5ECF6",
            "gridcolor": "white",
            "gridwidth": 2,
            "linecolor": "white",
            "showbackground": true,
            "ticks": "",
            "zerolinecolor": "white"
           }
          },
          "shapedefaults": {
           "line": {
            "color": "#2a3f5f"
           }
          },
          "ternary": {
           "aaxis": {
            "gridcolor": "white",
            "linecolor": "white",
            "ticks": ""
           },
           "baxis": {
            "gridcolor": "white",
            "linecolor": "white",
            "ticks": ""
           },
           "bgcolor": "#E5ECF6",
           "caxis": {
            "gridcolor": "white",
            "linecolor": "white",
            "ticks": ""
           }
          },
          "title": {
           "x": 0.05
          },
          "xaxis": {
           "automargin": true,
           "gridcolor": "white",
           "linecolor": "white",
           "ticks": "",
           "title": {
            "standoff": 15
           },
           "zerolinecolor": "white",
           "zerolinewidth": 2
          },
          "yaxis": {
           "automargin": true,
           "gridcolor": "white",
           "linecolor": "white",
           "ticks": "",
           "title": {
            "standoff": 15
           },
           "zerolinecolor": "white",
           "zerolinewidth": 2
          }
         }
        },
        "title": {
         "text": "EUR/CAD 5-Minute Chart"
        },
        "xaxis": {
         "rangeslider": {
          "visible": false
         },
         "title": {
          "text": "Time"
         }
        },
        "yaxis": {
         "title": {
          "text": "Price"
         }
        }
       }
      }
     },
     "metadata": {},
     "output_type": "display_data"
    },
    {
     "name": "stdout",
     "output_type": "stream",
     "text": [
      "Trading Signals:\n",
      "💰 5 minutes expiry\n",
      "EUR/CAD;04:37;CALL 🟩\n",
      "🕐 TIME TO 04:37\n",
      "💰 5 minutes expiry\n",
      "EUR/CAD;04:47;CALL 🟩\n",
      "🕐 TIME TO 04:47\n",
      "💰 5 minutes expiry\n",
      "EUR/CAD;04:57;CALL 🟩\n",
      "🕐 TIME TO 04:57\n",
      "💰 5 minutes expiry\n",
      "EUR/CAD;05:07;CALL 🟩\n",
      "🕐 TIME TO 05:07\n",
      "💰 5 minutes expiry\n",
      "EUR/CAD;05:17;PUT 🟥\n",
      "🕐 TIME TO 05:17\n"
     ]
    }
   ],
   "source": [
    "import plotly.graph_objects as go\n",
    "import pandas as pd\n",
    "import yfinance as yf\n",
    "import time\n",
    "from datetime import datetime, timedelta\n",
    "from IPython.display import clear_output, display\n",
    "\n",
    "def get_eurcad_data(interval=\"5m\", period=\"1d\"):\n",
    "    try:\n",
    "        eurcad = yf.Ticker(\"EURCAD=X\")\n",
    "        data = eurcad.history(period=period, interval=interval)\n",
    "        return data\n",
    "    except Exception as e:\n",
    "        print(f\"Error fetching data: {e}\")\n",
    "        return None\n",
    "\n",
    "def market_sentiment(data):\n",
    "    return data['Close'].pct_change().rolling(window=10).mean()\n",
    "\n",
    "def trend_riding(data):\n",
    "    sma_short = data['Close'].rolling(window=9).mean()\n",
    "    sma_long = data['Close'].rolling(window=18).mean()\n",
    "    return sma_short.iloc[-1] > sma_long.iloc[-1]\n",
    "\n",
    "def breakout_fading(data):\n",
    "    recent_high = data['High'].rolling(window=10).max()\n",
    "    recent_low = data['Low'].rolling(window=10).min()\n",
    "    return (data['Close'].iloc[-1] > recent_high.iloc[-2]) or (data['Close'].iloc[-1] < recent_low.iloc[-2])\n",
    "\n",
    "def breakout_trading(data):\n",
    "    breakout_threshold = data['Close'].rolling(window=20).max()\n",
    "    return data['Close'].iloc[-1] > breakout_threshold.iloc[-1]\n",
    "\n",
    "def decreased_volatility_breakout(data):\n",
    "    volatility = data['Close'].rolling(window=20).std()\n",
    "    return volatility.iloc[-1] < volatility.mean()\n",
    "\n",
    "def carry_trade():\n",
    "    # Placeholder: Normally requires interest rate differentials\n",
    "    return False\n",
    "\n",
    "def news_straddling():\n",
    "    # Placeholder: Requires news event detection\n",
    "    return False\n",
    "\n",
    "def analyze_and_generate_signals(data):\n",
    "    if data is None or data.empty or len(data) < 20:\n",
    "        return None, None\n",
    "    \n",
    "    last_price = data['Close'].iloc[-1]\n",
    "    current_time = datetime.utcnow() - timedelta(hours=3)  # UTC -3\n",
    "    trade_time = (current_time + timedelta(minutes=5)).strftime(\"%H:%M\")\n",
    "    \n",
    "    signal_type = None\n",
    "    \n",
    "    if market_sentiment(data).iloc[-1] > 0:\n",
    "        signal_type = \"CALL 🟩\"\n",
    "    elif market_sentiment(data).iloc[-1] < 0:\n",
    "        signal_type = \"PUT 🟥\"\n",
    "    \n",
    "    if trend_riding(data):\n",
    "        signal_type = \"CALL 🟩\"\n",
    "    \n",
    "    if breakout_fading(data):\n",
    "        signal_type = \"PUT 🟥\"\n",
    "    \n",
    "    if breakout_trading(data):\n",
    "        signal_type = \"CALL 🟩\"\n",
    "    \n",
    "    if decreased_volatility_breakout(data):\n",
    "        signal_type = \"CALL 🟩\"\n",
    "    \n",
    "    if carry_trade():\n",
    "        signal_type = \"CALL 🟩\"\n",
    "    \n",
    "    if news_straddling():\n",
    "        signal_type = \"CALL 🟩\"\n",
    "    \n",
    "    if signal_type:\n",
    "        signal_text = f\"💰 5 minutes expiry\\nEUR/CAD;{trade_time};{signal_type}\\n🕐 TIME TO {trade_time}\"  \n",
    "        return signal_text, trade_time\n",
    "    return None, None\n",
    "\n",
    "def create_candlestick_chart(data, title):\n",
    "    if data is None or data.empty:\n",
    "        print(f\"No data to display for {title}.\")\n",
    "        return None\n",
    "    \n",
    "    fig = go.Figure(data=[go.Candlestick(x=data.index,\n",
    "                                         open=data['Open'],\n",
    "                                         high=data['High'],\n",
    "                                         low=data['Low'],\n",
    "                                         close=data['Close'])])\n",
    "    fig.update_layout(title=title, xaxis_title='Time', yaxis_title='Price', xaxis_rangeslider_visible=False)\n",
    "    return fig\n",
    "\n",
    "def update_charts_and_signals():\n",
    "    signals_history = []\n",
    "    try:\n",
    "        while True:\n",
    "            data_5min = get_eurcad_data(interval=\"5m\")\n",
    "            fig_5min = create_candlestick_chart(data_5min, \"EUR/CAD 5-Minute Chart\")\n",
    "            \n",
    "            if fig_5min is not None:\n",
    "                signal_text, trade_time = analyze_and_generate_signals(data_5min)\n",
    "                \n",
    "                if signal_text:\n",
    "                    signals_history.append(signal_text)\n",
    "                    signals_history = signals_history[-5:]\n",
    "                    clear_output(wait=True)\n",
    "                    display(fig_5min)\n",
    "                    print(\"Trading Signals:\")\n",
    "                    for signal in signals_history:\n",
    "                        print(signal)\n",
    "                else:\n",
    "                    clear_output(wait=True)\n",
    "                    display(fig_5min)\n",
    "                    print(\"No New Trading Signals\")\n",
    "            \n",
    "            time.sleep(600)  # 10-minute interval\n",
    "    except KeyboardInterrupt:\n",
    "        print(\"Chart update stopped.\")\n",
    "\n",
    "if __name__ == \"__main__\":\n",
    "    update_charts_and_signals()"
   ]
  },
  {
   "cell_type": "code",
   "execution_count": null,
   "metadata": {},
   "outputs": [],
   "source": []
  }
 ],
 "metadata": {
  "kernelspec": {
   "display_name": "Python 3",
   "language": "python",
   "name": "python3"
  },
  "language_info": {
   "codemirror_mode": {
    "name": "ipython",
    "version": 3
   },
   "file_extension": ".py",
   "mimetype": "text/x-python",
   "name": "python",
   "nbconvert_exporter": "python",
   "pygments_lexer": "ipython3",
   "version": "3.12.9"
  }
 },
 "nbformat": 4,
 "nbformat_minor": 2
}
